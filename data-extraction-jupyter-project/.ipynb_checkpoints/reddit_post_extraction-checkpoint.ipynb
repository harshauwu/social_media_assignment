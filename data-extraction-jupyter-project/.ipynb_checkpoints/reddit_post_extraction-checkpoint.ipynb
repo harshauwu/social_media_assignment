{
 "cells": [
  {
   "cell_type": "code",
   "execution_count": 1,
   "id": "b6381149",
   "metadata": {},
   "outputs": [],
   "source": [
    "import praw\n",
    "import pandas as pd"
   ]
  },
  {
   "cell_type": "markdown",
   "id": "ee9aa59d",
   "metadata": {},
   "source": [
    "### Data Collecting"
   ]
  },
  {
   "cell_type": "code",
   "execution_count": 10,
   "id": "95a5a813",
   "metadata": {},
   "outputs": [],
   "source": [
    "# Creating a Reddit object with the required parameters\n",
    "reddit = praw.Reddit(\n",
    "    client_id='izlVfPwECjziab_rpf2D_A',\n",
    "    client_secret='LhjN-wepGfUncebvFygM2gVlOxRPBw',\n",
    "    redirect_uri=\"http://localhost:8080\",\n",
    "    user_agent=\"testscript by u/fakebot3\",\n",
    ")"
   ]
  },
  {
   "cell_type": "code",
   "execution_count": 11,
   "id": "021d0943",
   "metadata": {},
   "outputs": [],
   "source": [
    "# Get the top 10 posts from the r/python subreddit\n",
    "subreddit = reddit.subreddit('starbucks')"
   ]
  },
  {
   "cell_type": "code",
   "execution_count": 12,
   "id": "0d952142",
   "metadata": {},
   "outputs": [],
   "source": [
    "top_posts = subreddit.top(limit=10)"
   ]
  },
  {
   "cell_type": "code",
   "execution_count": 13,
   "id": "b6f6edf8",
   "metadata": {},
   "outputs": [],
   "source": [
    "posts_dict = {\n",
    "    \"title\": [],\n",
    "    \"score\": [],\n",
    "    \"post_id\": [],\n",
    "    \"url\": [],\n",
    "    \"comms_num\": [],\n",
    "    \"created\": [],\n",
    "    \"body\": [],\n",
    "    \"author\": [],\n",
    "    \"subreddit\": []\n",
    "}"
   ]
  },
  {
   "cell_type": "code",
   "execution_count": 14,
   "id": "ba023e12",
   "metadata": {},
   "outputs": [],
   "source": [
    "for post in top_posts:\n",
    "    # Get the likes, shares, and time of the post.\n",
    "    # Push the data to posts_dict.\n",
    "    posts_dict[\"title\"].append(post.title)\n",
    "    posts_dict[\"score\"].append(post.score)\n",
    "    posts_dict[\"post_id\"].append(post.id)\n",
    "    posts_dict[\"url\"].append(post.url)\n",
    "    posts_dict[\"comms_num\"].append(post.num_comments)\n",
    "    posts_dict[\"created\"].append(post.created)\n",
    "    posts_dict[\"body\"].append(post.selftext)\n",
    "    posts_dict[\"author\"].append(post.author)\n",
    "    posts_dict[\"subreddit\"].append(post.subreddit)"
   ]
  },
  {
   "cell_type": "code",
   "execution_count": 15,
   "id": "e0760027",
   "metadata": {},
   "outputs": [],
   "source": [
    "df = pd.DataFrame(posts_dict)  "
   ]
  },
  {
   "cell_type": "code",
   "execution_count": 16,
   "id": "531b0008",
   "metadata": {},
   "outputs": [
    {
     "data": {
      "text/html": [
       "<div>\n",
       "<style scoped>\n",
       "    .dataframe tbody tr th:only-of-type {\n",
       "        vertical-align: middle;\n",
       "    }\n",
       "\n",
       "    .dataframe tbody tr th {\n",
       "        vertical-align: top;\n",
       "    }\n",
       "\n",
       "    .dataframe thead th {\n",
       "        text-align: right;\n",
       "    }\n",
       "</style>\n",
       "<table border=\"1\" class=\"dataframe\">\n",
       "  <thead>\n",
       "    <tr style=\"text-align: right;\">\n",
       "      <th></th>\n",
       "      <th>title</th>\n",
       "      <th>score</th>\n",
       "      <th>post_id</th>\n",
       "      <th>url</th>\n",
       "      <th>comms_num</th>\n",
       "      <th>created</th>\n",
       "      <th>body</th>\n",
       "      <th>author</th>\n",
       "      <th>subreddit</th>\n",
       "    </tr>\n",
       "  </thead>\n",
       "  <tbody>\n",
       "    <tr>\n",
       "      <th>0</th>\n",
       "      <td>THEY WON THE UNION VOTE</td>\n",
       "      <td>16017</td>\n",
       "      <td>rco8xd</td>\n",
       "      <td>https://www.reddit.com/r/starbucks/comments/rc...</td>\n",
       "      <td>409</td>\n",
       "      <td>1.639076e+09</td>\n",
       "      <td></td>\n",
       "      <td>witchezbrew</td>\n",
       "      <td>starbucks</td>\n",
       "    </tr>\n",
       "    <tr>\n",
       "      <th>1</th>\n",
       "      <td>60 Frappuccino’s with no tip… $279</td>\n",
       "      <td>9535</td>\n",
       "      <td>p9283m</td>\n",
       "      <td>https://i.redd.it/1td7kk2ewsi71.jpg</td>\n",
       "      <td>273</td>\n",
       "      <td>1.629591e+09</td>\n",
       "      <td></td>\n",
       "      <td>Relative_Nail_3145</td>\n",
       "      <td>starbucks</td>\n",
       "    </tr>\n",
       "    <tr>\n",
       "      <th>2</th>\n",
       "      <td>I'm not allowed to make signs anymore.</td>\n",
       "      <td>6944</td>\n",
       "      <td>3gscwr</td>\n",
       "      <td>http://imgur.com/plwvC9P</td>\n",
       "      <td>263</td>\n",
       "      <td>1.439424e+09</td>\n",
       "      <td></td>\n",
       "      <td>DragonTwain</td>\n",
       "      <td>starbucks</td>\n",
       "    </tr>\n",
       "    <tr>\n",
       "      <th>3</th>\n",
       "      <td>What did you get fired for?</td>\n",
       "      <td>6582</td>\n",
       "      <td>pou8vz</td>\n",
       "      <td>https://www.reddit.com/r/starbucks/comments/po...</td>\n",
       "      <td>530</td>\n",
       "      <td>1.631725e+09</td>\n",
       "      <td>I want to hear your stories. Me, I got the axe...</td>\n",
       "      <td>PossiblyUnhinged</td>\n",
       "      <td>starbucks</td>\n",
       "    </tr>\n",
       "    <tr>\n",
       "      <th>4</th>\n",
       "      <td>An inspiration to us all 🙌🏻</td>\n",
       "      <td>6354</td>\n",
       "      <td>pa07hq</td>\n",
       "      <td>https://i.redd.it/uoroeqha44j71.jpg</td>\n",
       "      <td>87</td>\n",
       "      <td>1.629727e+09</td>\n",
       "      <td></td>\n",
       "      <td>annaplatt411</td>\n",
       "      <td>starbucks</td>\n",
       "    </tr>\n",
       "    <tr>\n",
       "      <th>5</th>\n",
       "      <td>when they buy a $0.05 handle bag and request a...</td>\n",
       "      <td>6264</td>\n",
       "      <td>xr8fc3</td>\n",
       "      <td>https://i.redd.it/mzr26lb7zsq91.jpg</td>\n",
       "      <td>191</td>\n",
       "      <td>1.664460e+09</td>\n",
       "      <td></td>\n",
       "      <td>swiftlocked</td>\n",
       "      <td>starbucks</td>\n",
       "    </tr>\n",
       "    <tr>\n",
       "      <th>6</th>\n",
       "      <td>Filling out the CoVid CoAcH like...</td>\n",
       "      <td>6002</td>\n",
       "      <td>k2qgn2</td>\n",
       "      <td>https://i.redd.it/h20p249db0261.png</td>\n",
       "      <td>125</td>\n",
       "      <td>1.606581e+09</td>\n",
       "      <td></td>\n",
       "      <td>Silvawuff</td>\n",
       "      <td>starbucks</td>\n",
       "    </tr>\n",
       "    <tr>\n",
       "      <th>7</th>\n",
       "      <td>bro is struggling 💀</td>\n",
       "      <td>5874</td>\n",
       "      <td>kdmatx</td>\n",
       "      <td>https://i.redd.it/84y74aobyc561.jpg</td>\n",
       "      <td>195</td>\n",
       "      <td>1.608041e+09</td>\n",
       "      <td></td>\n",
       "      <td>screenshotofdispair</td>\n",
       "      <td>starbucks</td>\n",
       "    </tr>\n",
       "    <tr>\n",
       "      <th>8</th>\n",
       "      <td>Needless to say we’ve been verbally abused a lot</td>\n",
       "      <td>5580</td>\n",
       "      <td>ntnjz2</td>\n",
       "      <td>https://i.redd.it/yx57wcy5tn371.jpg</td>\n",
       "      <td>367</td>\n",
       "      <td>1.622991e+09</td>\n",
       "      <td></td>\n",
       "      <td>Squidofthe7seas</td>\n",
       "      <td>starbucks</td>\n",
       "    </tr>\n",
       "    <tr>\n",
       "      <th>9</th>\n",
       "      <td>Year two of dressing up as In-N-Out at my Star...</td>\n",
       "      <td>5563</td>\n",
       "      <td>mi9q3t</td>\n",
       "      <td>https://i.redd.it/uc0jl88bvnq61.jpg</td>\n",
       "      <td>75</td>\n",
       "      <td>1.617326e+09</td>\n",
       "      <td></td>\n",
       "      <td>K_Hotdogs</td>\n",
       "      <td>starbucks</td>\n",
       "    </tr>\n",
       "  </tbody>\n",
       "</table>\n",
       "</div>"
      ],
      "text/plain": [
       "                                               title  score post_id   \n",
       "0                            THEY WON THE UNION VOTE  16017  rco8xd  \\\n",
       "1                 60 Frappuccino’s with no tip… $279   9535  p9283m   \n",
       "2             I'm not allowed to make signs anymore.   6944  3gscwr   \n",
       "3                        What did you get fired for?   6582  pou8vz   \n",
       "4                        An inspiration to us all 🙌🏻   6354  pa07hq   \n",
       "5  when they buy a $0.05 handle bag and request a...   6264  xr8fc3   \n",
       "6                Filling out the CoVid CoAcH like...   6002  k2qgn2   \n",
       "7                                bro is struggling 💀   5874  kdmatx   \n",
       "8   Needless to say we’ve been verbally abused a lot   5580  ntnjz2   \n",
       "9  Year two of dressing up as In-N-Out at my Star...   5563  mi9q3t   \n",
       "\n",
       "                                                 url  comms_num       created   \n",
       "0  https://www.reddit.com/r/starbucks/comments/rc...        409  1.639076e+09  \\\n",
       "1                https://i.redd.it/1td7kk2ewsi71.jpg        273  1.629591e+09   \n",
       "2                           http://imgur.com/plwvC9P        263  1.439424e+09   \n",
       "3  https://www.reddit.com/r/starbucks/comments/po...        530  1.631725e+09   \n",
       "4                https://i.redd.it/uoroeqha44j71.jpg         87  1.629727e+09   \n",
       "5                https://i.redd.it/mzr26lb7zsq91.jpg        191  1.664460e+09   \n",
       "6                https://i.redd.it/h20p249db0261.png        125  1.606581e+09   \n",
       "7                https://i.redd.it/84y74aobyc561.jpg        195  1.608041e+09   \n",
       "8                https://i.redd.it/yx57wcy5tn371.jpg        367  1.622991e+09   \n",
       "9                https://i.redd.it/uc0jl88bvnq61.jpg         75  1.617326e+09   \n",
       "\n",
       "                                                body               author   \n",
       "0                                                             witchezbrew  \\\n",
       "1                                                      Relative_Nail_3145   \n",
       "2                                                             DragonTwain   \n",
       "3  I want to hear your stories. Me, I got the axe...     PossiblyUnhinged   \n",
       "4                                                            annaplatt411   \n",
       "5                                                             swiftlocked   \n",
       "6                                                               Silvawuff   \n",
       "7                                                     screenshotofdispair   \n",
       "8                                                         Squidofthe7seas   \n",
       "9                                                               K_Hotdogs   \n",
       "\n",
       "   subreddit  \n",
       "0  starbucks  \n",
       "1  starbucks  \n",
       "2  starbucks  \n",
       "3  starbucks  \n",
       "4  starbucks  \n",
       "5  starbucks  \n",
       "6  starbucks  \n",
       "7  starbucks  \n",
       "8  starbucks  \n",
       "9  starbucks  "
      ]
     },
     "execution_count": 16,
     "metadata": {},
     "output_type": "execute_result"
    }
   ],
   "source": [
    "df"
   ]
  },
  {
   "cell_type": "markdown",
   "id": "5edfe660",
   "metadata": {},
   "source": [
    "### Data Preprocessing"
   ]
  },
  {
   "cell_type": "code",
   "execution_count": 17,
   "id": "4e585d56",
   "metadata": {},
   "outputs": [],
   "source": [
    "# Assuming 'created' contains Unix timestamps (seconds since epoch)\n",
    "df['created'] = pd.to_datetime(df['created'], unit='s')"
   ]
  },
  {
   "cell_type": "code",
   "execution_count": 18,
   "id": "be022911",
   "metadata": {},
   "outputs": [],
   "source": [
    "# Extract date and time into separate columns\n",
    "df['created_date'] = df['created'].dt.date\n",
    "df['created_time'] = df['created'].dt.time"
   ]
  },
  {
   "cell_type": "code",
   "execution_count": 19,
   "id": "1bf60b84",
   "metadata": {},
   "outputs": [],
   "source": [
    "# Sort the DataFrame in descending order based on the 'created' column\n",
    "df.sort_values(by='created', ascending=False, inplace=True)"
   ]
  },
  {
   "cell_type": "code",
   "execution_count": 20,
   "id": "24e7ca02",
   "metadata": {},
   "outputs": [],
   "source": [
    "# Reset the index if needed\n",
    "df.reset_index(drop=True, inplace=True)"
   ]
  },
  {
   "cell_type": "code",
   "execution_count": 21,
   "id": "06fa555e",
   "metadata": {},
   "outputs": [],
   "source": [
    "# Correct data types\n",
    "df['score'] = df['score'].astype(int)\n",
    "df['comms_num'] = df['comms_num'].astype(int)\n",
    "df['created'] = pd.to_datetime(df['created'], unit='s')  # Assuming 'Created' represents Unix timestamps\n",
    "df['created_date'] = pd.to_datetime(df['created_date'], unit='s')  # Assuming 'Created' represents Unix timestamps\n",
    "df['created_time'] = pd.to_datetime(df['created_time'], unit='s')  # Assuming 'Created' represents Unix timestamps"
   ]
  },
  {
   "cell_type": "code",
   "execution_count": 22,
   "id": "6151fe0d",
   "metadata": {},
   "outputs": [
    {
     "name": "stdout",
     "output_type": "stream",
     "text": [
      "title                   object\n",
      "score                    int64\n",
      "post_id                 object\n",
      "url                     object\n",
      "comms_num                int64\n",
      "created         datetime64[ns]\n",
      "body                    object\n",
      "author                  object\n",
      "subreddit               object\n",
      "created_date            object\n",
      "created_time            object\n",
      "dtype: object\n"
     ]
    }
   ],
   "source": [
    "# Check the data types after correction\n",
    "print(df.dtypes)"
   ]
  },
  {
   "cell_type": "code",
   "execution_count": null,
   "id": "caf4f9b3",
   "metadata": {},
   "outputs": [],
   "source": []
  }
 ],
 "metadata": {
  "kernelspec": {
   "display_name": "Python 3 (ipykernel)",
   "language": "python",
   "name": "python3"
  },
  "language_info": {
   "codemirror_mode": {
    "name": "ipython",
    "version": 3
   },
   "file_extension": ".py",
   "mimetype": "text/x-python",
   "name": "python",
   "nbconvert_exporter": "python",
   "pygments_lexer": "ipython3",
   "version": "3.11.2"
  }
 },
 "nbformat": 4,
 "nbformat_minor": 5
}
