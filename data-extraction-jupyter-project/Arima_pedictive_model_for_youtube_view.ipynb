{
 "cells": [
  {
   "cell_type": "code",
   "execution_count": 1,
   "id": "6f3c2c94",
   "metadata": {},
   "outputs": [],
   "source": [
    "import numpy as np\n",
    "import pandas as pd\n",
    "from statsmodels.tsa.arima_model import ARIMA\n",
    "import statsmodels.api as sm"
   ]
  },
  {
   "cell_type": "code",
   "execution_count": 2,
   "id": "0b02a31c",
   "metadata": {},
   "outputs": [],
   "source": [
    "# Load the historical data\n",
    "df = pd.read_csv('youTube_video_process_data.csv')"
   ]
  },
  {
   "cell_type": "code",
   "execution_count": 3,
   "id": "14845f48",
   "metadata": {},
   "outputs": [
    {
     "data": {
      "text/html": [
       "<div>\n",
       "<style scoped>\n",
       "    .dataframe tbody tr th:only-of-type {\n",
       "        vertical-align: middle;\n",
       "    }\n",
       "\n",
       "    .dataframe tbody tr th {\n",
       "        vertical-align: top;\n",
       "    }\n",
       "\n",
       "    .dataframe thead th {\n",
       "        text-align: right;\n",
       "    }\n",
       "</style>\n",
       "<table border=\"1\" class=\"dataframe\">\n",
       "  <thead>\n",
       "    <tr style=\"text-align: right;\">\n",
       "      <th></th>\n",
       "      <th>title</th>\n",
       "      <th>view_count</th>\n",
       "      <th>like_count</th>\n",
       "      <th>comment_count</th>\n",
       "      <th>favorite_count</th>\n",
       "      <th>durations</th>\n",
       "      <th>published_at</th>\n",
       "      <th>published_date</th>\n",
       "      <th>published_time</th>\n",
       "    </tr>\n",
       "  </thead>\n",
       "  <tbody>\n",
       "    <tr>\n",
       "      <th>0</th>\n",
       "      <td>Full Energy New Day With Starbucks Coffee Musi...</td>\n",
       "      <td>1351</td>\n",
       "      <td>11</td>\n",
       "      <td>0</td>\n",
       "      <td>0</td>\n",
       "      <td>P0D</td>\n",
       "      <td>2023-10-05 22:01:46+00:00</td>\n",
       "      <td>2023-10-05</td>\n",
       "      <td>22:01:46</td>\n",
       "    </tr>\n",
       "    <tr>\n",
       "      <th>1</th>\n",
       "      <td>Starbucks Happy Morning Music - Relaxing Starb...</td>\n",
       "      <td>606</td>\n",
       "      <td>11</td>\n",
       "      <td>4</td>\n",
       "      <td>0</td>\n",
       "      <td>P1D</td>\n",
       "      <td>2023-10-05 22:00:11+00:00</td>\n",
       "      <td>2023-10-05</td>\n",
       "      <td>22:00:11</td>\n",
       "    </tr>\n",
       "    <tr>\n",
       "      <th>2</th>\n",
       "      <td>Starbucks Coffee Music &amp; Jazz Relaxing Music -...</td>\n",
       "      <td>1649</td>\n",
       "      <td>21</td>\n",
       "      <td>2</td>\n",
       "      <td>0</td>\n",
       "      <td>PT11H54M57S</td>\n",
       "      <td>2023-10-05 13:28:00+00:00</td>\n",
       "      <td>2023-10-05</td>\n",
       "      <td>13:28:00</td>\n",
       "    </tr>\n",
       "    <tr>\n",
       "      <th>3</th>\n",
       "      <td>Starbucks Coffee Shop Music - Keep Upbeat Your...</td>\n",
       "      <td>357</td>\n",
       "      <td>3</td>\n",
       "      <td>0</td>\n",
       "      <td>0</td>\n",
       "      <td>P0D</td>\n",
       "      <td>2023-10-05 08:53:58+00:00</td>\n",
       "      <td>2023-10-05</td>\n",
       "      <td>08:53:58</td>\n",
       "    </tr>\n",
       "    <tr>\n",
       "      <th>4</th>\n",
       "      <td>Elegant Starbucks Cafe Music - Starbucks Music...</td>\n",
       "      <td>1847</td>\n",
       "      <td>22</td>\n",
       "      <td>6</td>\n",
       "      <td>0</td>\n",
       "      <td>P1DT1S</td>\n",
       "      <td>2023-10-04 22:00:07+00:00</td>\n",
       "      <td>2023-10-04</td>\n",
       "      <td>22:00:07</td>\n",
       "    </tr>\n",
       "  </tbody>\n",
       "</table>\n",
       "</div>"
      ],
      "text/plain": [
       "                                               title  view_count  like_count   \n",
       "0  Full Energy New Day With Starbucks Coffee Musi...        1351          11  \\\n",
       "1  Starbucks Happy Morning Music - Relaxing Starb...         606          11   \n",
       "2  Starbucks Coffee Music & Jazz Relaxing Music -...        1649          21   \n",
       "3  Starbucks Coffee Shop Music - Keep Upbeat Your...         357           3   \n",
       "4  Elegant Starbucks Cafe Music - Starbucks Music...        1847          22   \n",
       "\n",
       "   comment_count  favorite_count    durations               published_at   \n",
       "0              0               0          P0D  2023-10-05 22:01:46+00:00  \\\n",
       "1              4               0          P1D  2023-10-05 22:00:11+00:00   \n",
       "2              2               0  PT11H54M57S  2023-10-05 13:28:00+00:00   \n",
       "3              0               0          P0D  2023-10-05 08:53:58+00:00   \n",
       "4              6               0       P1DT1S  2023-10-04 22:00:07+00:00   \n",
       "\n",
       "  published_date published_time  \n",
       "0     2023-10-05       22:01:46  \n",
       "1     2023-10-05       22:00:11  \n",
       "2     2023-10-05       13:28:00  \n",
       "3     2023-10-05       08:53:58  \n",
       "4     2023-10-04       22:00:07  "
      ]
     },
     "execution_count": 3,
     "metadata": {},
     "output_type": "execute_result"
    }
   ],
   "source": [
    "df.head()"
   ]
  },
  {
   "cell_type": "markdown",
   "id": "6f6130f0",
   "metadata": {},
   "source": [
    "### Data Cleaning and Preprocessing"
   ]
  },
  {
   "cell_type": "code",
   "execution_count": 8,
   "id": "d9d1c164",
   "metadata": {},
   "outputs": [],
   "source": [
    "# Assuming 'created' contains Unix timestamps (seconds since epoch)\n",
    "df['published_date'] = pd.to_datetime(df['published_date'])"
   ]
  },
  {
   "cell_type": "markdown",
   "id": "06fcbe04",
   "metadata": {},
   "source": [
    "#### Remove Unnecessary Columns"
   ]
  },
  {
   "cell_type": "code",
   "execution_count": 10,
   "id": "aa691d82",
   "metadata": {},
   "outputs": [],
   "source": [
    "df = df.drop(['title', 'like_count', 'comment_count', 'favorite_count', 'durations', 'published_at', 'published_time'], axis=1)"
   ]
  },
  {
   "cell_type": "code",
   "execution_count": 11,
   "id": "9c6650ea",
   "metadata": {},
   "outputs": [
    {
     "data": {
      "text/html": [
       "<div>\n",
       "<style scoped>\n",
       "    .dataframe tbody tr th:only-of-type {\n",
       "        vertical-align: middle;\n",
       "    }\n",
       "\n",
       "    .dataframe tbody tr th {\n",
       "        vertical-align: top;\n",
       "    }\n",
       "\n",
       "    .dataframe thead th {\n",
       "        text-align: right;\n",
       "    }\n",
       "</style>\n",
       "<table border=\"1\" class=\"dataframe\">\n",
       "  <thead>\n",
       "    <tr style=\"text-align: right;\">\n",
       "      <th></th>\n",
       "      <th>view_count</th>\n",
       "      <th>published_date</th>\n",
       "    </tr>\n",
       "  </thead>\n",
       "  <tbody>\n",
       "    <tr>\n",
       "      <th>0</th>\n",
       "      <td>1351</td>\n",
       "      <td>2023-10-05</td>\n",
       "    </tr>\n",
       "    <tr>\n",
       "      <th>1</th>\n",
       "      <td>606</td>\n",
       "      <td>2023-10-05</td>\n",
       "    </tr>\n",
       "    <tr>\n",
       "      <th>2</th>\n",
       "      <td>1649</td>\n",
       "      <td>2023-10-05</td>\n",
       "    </tr>\n",
       "    <tr>\n",
       "      <th>3</th>\n",
       "      <td>357</td>\n",
       "      <td>2023-10-05</td>\n",
       "    </tr>\n",
       "    <tr>\n",
       "      <th>4</th>\n",
       "      <td>1847</td>\n",
       "      <td>2023-10-04</td>\n",
       "    </tr>\n",
       "  </tbody>\n",
       "</table>\n",
       "</div>"
      ],
      "text/plain": [
       "   view_count published_date\n",
       "0        1351     2023-10-05\n",
       "1         606     2023-10-05\n",
       "2        1649     2023-10-05\n",
       "3         357     2023-10-05\n",
       "4        1847     2023-10-04"
      ]
     },
     "execution_count": 11,
     "metadata": {},
     "output_type": "execute_result"
    }
   ],
   "source": [
    "df.head()"
   ]
  },
  {
   "cell_type": "code",
   "execution_count": 12,
   "id": "b3ac20f0",
   "metadata": {},
   "outputs": [],
   "source": [
    "# Sort the data by the 'created' column and split it into training and testing sets.\n",
    "df.sort_values(by='published_date', inplace=True, ascending=False)"
   ]
  },
  {
   "cell_type": "code",
   "execution_count": 13,
   "id": "5ba4492b",
   "metadata": {},
   "outputs": [],
   "source": [
    "df.set_index('published_date', inplace=True)"
   ]
  },
  {
   "cell_type": "code",
   "execution_count": 14,
   "id": "23799eda",
   "metadata": {},
   "outputs": [
    {
     "data": {
      "text/html": [
       "<div>\n",
       "<style scoped>\n",
       "    .dataframe tbody tr th:only-of-type {\n",
       "        vertical-align: middle;\n",
       "    }\n",
       "\n",
       "    .dataframe tbody tr th {\n",
       "        vertical-align: top;\n",
       "    }\n",
       "\n",
       "    .dataframe thead th {\n",
       "        text-align: right;\n",
       "    }\n",
       "</style>\n",
       "<table border=\"1\" class=\"dataframe\">\n",
       "  <thead>\n",
       "    <tr style=\"text-align: right;\">\n",
       "      <th></th>\n",
       "      <th>view_count</th>\n",
       "    </tr>\n",
       "    <tr>\n",
       "      <th>published_date</th>\n",
       "      <th></th>\n",
       "    </tr>\n",
       "  </thead>\n",
       "  <tbody>\n",
       "    <tr>\n",
       "      <th>2023-10-05</th>\n",
       "      <td>1351</td>\n",
       "    </tr>\n",
       "    <tr>\n",
       "      <th>2023-10-05</th>\n",
       "      <td>1357</td>\n",
       "    </tr>\n",
       "    <tr>\n",
       "      <th>2023-10-05</th>\n",
       "      <td>1649</td>\n",
       "    </tr>\n",
       "    <tr>\n",
       "      <th>2023-10-05</th>\n",
       "      <td>357</td>\n",
       "    </tr>\n",
       "    <tr>\n",
       "      <th>2023-10-05</th>\n",
       "      <td>1357</td>\n",
       "    </tr>\n",
       "    <tr>\n",
       "      <th>...</th>\n",
       "      <td>...</td>\n",
       "    </tr>\n",
       "    <tr>\n",
       "      <th>2023-06-20</th>\n",
       "      <td>3504</td>\n",
       "    </tr>\n",
       "    <tr>\n",
       "      <th>2023-06-20</th>\n",
       "      <td>3504</td>\n",
       "    </tr>\n",
       "    <tr>\n",
       "      <th>2023-06-20</th>\n",
       "      <td>3504</td>\n",
       "    </tr>\n",
       "    <tr>\n",
       "      <th>2023-06-20</th>\n",
       "      <td>3504</td>\n",
       "    </tr>\n",
       "    <tr>\n",
       "      <th>2023-06-20</th>\n",
       "      <td>3504</td>\n",
       "    </tr>\n",
       "  </tbody>\n",
       "</table>\n",
       "<p>1000 rows × 1 columns</p>\n",
       "</div>"
      ],
      "text/plain": [
       "                view_count\n",
       "published_date            \n",
       "2023-10-05            1351\n",
       "2023-10-05            1357\n",
       "2023-10-05            1649\n",
       "2023-10-05             357\n",
       "2023-10-05            1357\n",
       "...                    ...\n",
       "2023-06-20            3504\n",
       "2023-06-20            3504\n",
       "2023-06-20            3504\n",
       "2023-06-20            3504\n",
       "2023-06-20            3504\n",
       "\n",
       "[1000 rows x 1 columns]"
      ]
     },
     "execution_count": 14,
     "metadata": {},
     "output_type": "execute_result"
    }
   ],
   "source": [
    "df"
   ]
  },
  {
   "cell_type": "code",
   "execution_count": 15,
   "id": "f3b7b6ea",
   "metadata": {},
   "outputs": [],
   "source": [
    "# Split the data into training and testing sets with test_set containing the newest data\n",
    "train_set, test_set = df[int(len(df) * 0.2):], df[:int(len(df) * 0.2)]"
   ]
  },
  {
   "cell_type": "markdown",
   "id": "d5643bbf",
   "metadata": {},
   "source": [
    "#### Model Training:"
   ]
  },
  {
   "cell_type": "code",
   "execution_count": 16,
   "id": "0b878399",
   "metadata": {},
   "outputs": [],
   "source": [
    "# Define the order of the ARIMA model (p, d, q)\n",
    "p = 1  # Autoregressive order\n",
    "d = 1  # Differencing order (to make the series stationary)\n",
    "q = 1  # Moving average order"
   ]
  },
  {
   "cell_type": "code",
   "execution_count": 18,
   "id": "69b12b3d",
   "metadata": {},
   "outputs": [
    {
     "name": "stderr",
     "output_type": "stream",
     "text": [
      "/usr/local/lib/python3.11/site-packages/statsmodels/tsa/base/tsa_model.py:473: ValueWarning: A date index has been provided, but it has no associated frequency information and so will be ignored when e.g. forecasting.\n",
      "  self._init_dates(dates, freq)\n",
      "/usr/local/lib/python3.11/site-packages/statsmodels/tsa/base/tsa_model.py:473: ValueWarning: A date index has been provided, but it is not monotonic and so will be ignored when e.g. forecasting.\n",
      "  self._init_dates(dates, freq)\n",
      "/usr/local/lib/python3.11/site-packages/statsmodels/tsa/base/tsa_model.py:473: ValueWarning: A date index has been provided, but it has no associated frequency information and so will be ignored when e.g. forecasting.\n",
      "  self._init_dates(dates, freq)\n",
      "/usr/local/lib/python3.11/site-packages/statsmodels/tsa/base/tsa_model.py:473: ValueWarning: A date index has been provided, but it is not monotonic and so will be ignored when e.g. forecasting.\n",
      "  self._init_dates(dates, freq)\n",
      "/usr/local/lib/python3.11/site-packages/statsmodels/tsa/base/tsa_model.py:473: ValueWarning: A date index has been provided, but it has no associated frequency information and so will be ignored when e.g. forecasting.\n",
      "  self._init_dates(dates, freq)\n",
      "/usr/local/lib/python3.11/site-packages/statsmodels/tsa/base/tsa_model.py:473: ValueWarning: A date index has been provided, but it is not monotonic and so will be ignored when e.g. forecasting.\n",
      "  self._init_dates(dates, freq)\n"
     ]
    }
   ],
   "source": [
    "# Create the ARIMA model using the 'view_count' column\n",
    "arima_model = sm.tsa.ARIMA(train_set['view_count'], order=(p, d, q))"
   ]
  },
  {
   "cell_type": "code",
   "execution_count": 19,
   "id": "0aa83af0",
   "metadata": {},
   "outputs": [],
   "source": [
    "# Fit the ARIMA model to your training data\n",
    "arima_model_fit = arima_model.fit()"
   ]
  },
  {
   "cell_type": "code",
   "execution_count": 20,
   "id": "2d0d85c8",
   "metadata": {},
   "outputs": [
    {
     "name": "stdout",
     "output_type": "stream",
     "text": [
      "                               SARIMAX Results                                \n",
      "==============================================================================\n",
      "Dep. Variable:             view_count   No. Observations:                  800\n",
      "Model:                 ARIMA(1, 1, 1)   Log Likelihood               -6980.519\n",
      "Date:                Fri, 06 Oct 2023   AIC                          13967.038\n",
      "Time:                        15:44:22   BIC                          13981.088\n",
      "Sample:                             0   HQIC                         13972.436\n",
      "                                - 800                                         \n",
      "Covariance Type:                  opg                                         \n",
      "==============================================================================\n",
      "                 coef    std err          z      P>|z|      [0.025      0.975]\n",
      "------------------------------------------------------------------------------\n",
      "ar.L1         -0.0291      0.017     -1.683      0.092      -0.063       0.005\n",
      "ma.L1         -0.8002      0.013    -63.719      0.000      -0.825      -0.776\n",
      "sigma2      2.268e+06    5.7e+04     39.765      0.000    2.16e+06    2.38e+06\n",
      "===================================================================================\n",
      "Ljung-Box (L1) (Q):                   0.00   Jarque-Bera (JB):              1507.50\n",
      "Prob(Q):                              0.95   Prob(JB):                         0.00\n",
      "Heteroskedasticity (H):               4.30   Skew:                             0.86\n",
      "Prob(H) (two-sided):                  0.00   Kurtosis:                         9.50\n",
      "===================================================================================\n",
      "\n",
      "Warnings:\n",
      "[1] Covariance matrix calculated using the outer product of gradients (complex-step).\n"
     ]
    }
   ],
   "source": [
    "# Print the summary of the model (optional)\n",
    "print(arima_model_fit.summary())"
   ]
  },
  {
   "cell_type": "markdown",
   "id": "722d6682",
   "metadata": {},
   "source": [
    "#### Model Evaluation:"
   ]
  },
  {
   "cell_type": "code",
   "execution_count": 21,
   "id": "a9a68b56",
   "metadata": {},
   "outputs": [],
   "source": [
    "# Make predictions on the testing data\n",
    "predictions = arima_model_fit.predict(start=0, end=len(test_set) - 1, typ='levels')"
   ]
  },
  {
   "cell_type": "code",
   "execution_count": 22,
   "id": "204dad74",
   "metadata": {},
   "outputs": [
    {
     "ename": "NameError",
     "evalue": "name 'mean_absolute_error' is not defined",
     "output_type": "error",
     "traceback": [
      "\u001b[0;31m---------------------------------------------------------------------------\u001b[0m",
      "\u001b[0;31mNameError\u001b[0m                                 Traceback (most recent call last)",
      "Cell \u001b[0;32mIn[22], line 2\u001b[0m\n\u001b[1;32m      1\u001b[0m \u001b[38;5;66;03m# Calculate evaluation metrics\u001b[39;00m\n\u001b[0;32m----> 2\u001b[0m mae \u001b[38;5;241m=\u001b[39m \u001b[43mmean_absolute_error\u001b[49m(test_set, predictions)\n\u001b[1;32m      3\u001b[0m mse \u001b[38;5;241m=\u001b[39m mean_squared_error(test_set, predictions)\n\u001b[1;32m      4\u001b[0m rmse \u001b[38;5;241m=\u001b[39m np\u001b[38;5;241m.\u001b[39msqrt(mse)\n",
      "\u001b[0;31mNameError\u001b[0m: name 'mean_absolute_error' is not defined"
     ]
    }
   ],
   "source": [
    "# Calculate evaluation metrics\n",
    "mae = mean_absolute_error(test_set, predictions)\n",
    "mse = mean_squared_error(test_set, predictions)\n",
    "rmse = np.sqrt(mse)"
   ]
  },
  {
   "cell_type": "markdown",
   "id": "d0b3954b",
   "metadata": {},
   "source": [
    "#### Forecasting:"
   ]
  },
  {
   "cell_type": "code",
   "execution_count": 23,
   "id": "b01c12a4",
   "metadata": {},
   "outputs": [],
   "source": [
    "# Define the number of periods you want to forecast (e.g., one week)\n",
    "forecast_periods = 7  # Adjust as needed"
   ]
  },
  {
   "cell_type": "code",
   "execution_count": 24,
   "id": "c3b22cd5",
   "metadata": {},
   "outputs": [
    {
     "name": "stderr",
     "output_type": "stream",
     "text": [
      "/usr/local/lib/python3.11/site-packages/statsmodels/tsa/base/tsa_model.py:836: ValueWarning: No supported index is available. Prediction results will be given with an integer index beginning at `start`.\n",
      "  return get_prediction_index(\n",
      "/usr/local/lib/python3.11/site-packages/statsmodels/tsa/base/tsa_model.py:836: FutureWarning: No supported index is available. In the next version, calling this method in a model without a supported index will result in an exception.\n",
      "  return get_prediction_index(\n"
     ]
    }
   ],
   "source": [
    "# Use the trained ARIMA model to make forecasts\n",
    "forecast = arima_model_fit.forecast(steps=forecast_periods)"
   ]
  },
  {
   "cell_type": "code",
   "execution_count": 25,
   "id": "5a0eee4d",
   "metadata": {},
   "outputs": [],
   "source": [
    "last_date = df.index[0]"
   ]
  },
  {
   "cell_type": "code",
   "execution_count": 26,
   "id": "03c38869",
   "metadata": {},
   "outputs": [
    {
     "data": {
      "text/plain": [
       "Timestamp('2023-10-05 00:00:00')"
      ]
     },
     "execution_count": 26,
     "metadata": {},
     "output_type": "execute_result"
    }
   ],
   "source": [
    "last_date"
   ]
  },
  {
   "cell_type": "code",
   "execution_count": 27,
   "id": "65bfef1d",
   "metadata": {},
   "outputs": [],
   "source": [
    "last_date = pd.to_datetime(last_date)  # Assuming 'last_date' is a string"
   ]
  },
  {
   "cell_type": "code",
   "execution_count": 28,
   "id": "064d16a7",
   "metadata": {},
   "outputs": [],
   "source": [
    "forecast_dates = pd.date_range(start=last_date + pd.DateOffset(1), periods=forecast_periods)"
   ]
  },
  {
   "cell_type": "code",
   "execution_count": 29,
   "id": "93955ede",
   "metadata": {},
   "outputs": [],
   "source": [
    "# Create a DataFrame to store the forecasted values and dates\n",
    "forecast_df = pd.DataFrame({'Date': forecast_dates, 'Forecast': forecast})"
   ]
  },
  {
   "cell_type": "code",
   "execution_count": 30,
   "id": "840aa7f2",
   "metadata": {},
   "outputs": [
    {
     "name": "stdout",
     "output_type": "stream",
     "text": [
      "          Date     Forecast\n",
      "800 2023-10-06  3132.685227\n",
      "801 2023-10-07  3143.475731\n",
      "802 2023-10-08  3143.162156\n",
      "803 2023-10-09  3143.171269\n",
      "804 2023-10-10  3143.171004\n",
      "805 2023-10-11  3143.171011\n",
      "806 2023-10-12  3143.171011\n"
     ]
    }
   ],
   "source": [
    "# Print the forecasted values for the next week\n",
    "print(forecast_df)"
   ]
  },
  {
   "cell_type": "code",
   "execution_count": 32,
   "id": "895675b9",
   "metadata": {},
   "outputs": [],
   "source": [
    "# Specify the file path where you want to save the model\n",
    "model_save_path = 'arima_youtube_view_model.pkl'"
   ]
  },
  {
   "cell_type": "code",
   "execution_count": 33,
   "id": "4c297efc",
   "metadata": {},
   "outputs": [],
   "source": [
    "# Save the ARIMA model to the specified file\n",
    "arima_model_fit.save(model_save_path)"
   ]
  },
  {
   "cell_type": "code",
   "execution_count": null,
   "id": "ec932421",
   "metadata": {},
   "outputs": [],
   "source": []
  }
 ],
 "metadata": {
  "kernelspec": {
   "display_name": "Python 3 (ipykernel)",
   "language": "python",
   "name": "python3"
  },
  "language_info": {
   "codemirror_mode": {
    "name": "ipython",
    "version": 3
   },
   "file_extension": ".py",
   "mimetype": "text/x-python",
   "name": "python",
   "nbconvert_exporter": "python",
   "pygments_lexer": "ipython3",
   "version": "3.11.2"
  }
 },
 "nbformat": 4,
 "nbformat_minor": 5
}
