{
 "cells": [
  {
   "cell_type": "code",
   "execution_count": 4,
   "id": "15889e5a",
   "metadata": {},
   "outputs": [],
   "source": [
    "import praw"
   ]
  },
  {
   "cell_type": "code",
   "execution_count": 5,
   "id": "3fdf2255",
   "metadata": {},
   "outputs": [],
   "source": [
    "# Creating a Reddit object with the required parameters\n",
    "reddit = praw.Reddit(\n",
    "    client_id='izlVfPwECjziab_rpf2D_A',\n",
    "    client_secret='LhjN-wepGfUncebvFygM2gVlOxRPBw',\n",
    "    redirect_uri=\"http://localhost:8080\",\n",
    "    user_agent=\"testscript by u/fakebot3\",\n",
    ")"
   ]
  },
  {
   "cell_type": "code",
   "execution_count": 6,
   "id": "a3c6723e",
   "metadata": {},
   "outputs": [],
   "source": [
    "subreddit = reddit.subreddit('starbucks')"
   ]
  },
  {
   "cell_type": "code",
   "execution_count": 7,
   "id": "c67fc258",
   "metadata": {},
   "outputs": [
    {
     "name": "stdout",
     "output_type": "stream",
     "text": [
      "1037\n",
      "On behalf of all partners on /r/Starbucks, the views expressed here are ours alone and do not necessarily reflect the views of our employer.\n",
      "\n",
      "#BEFORE YOU POST!\n",
      "[Have you checked the Subreddit FAQ? Can your question be answered with a Reddit or Google search?](https://www.reddit.com/r/starbucks/wiki/faq)\n",
      "**Remember to check stickied threads, too!** These tend to contain important information or community discussion!\n",
      "\n",
      "#[RULES](https://www.reddit.com/r/starbucks/about/rules/)\n",
      " |Rules\n",
      "--:|---\n",
      "1|**No Spam, Reposting, or Self-Promotion**\n",
      " |No reposting or posting excessively. This includes but is not limited to: news stories covering the same topic; survey links; petitions; giveaways; and buying/selling requests.\n",
      "2|**Do Not Be Excessively Rude**\n",
      " |No rudeness or unwarranted hostility or trolling (Outright or by instigating arguments). This includes retorts and being nasty back!\n",
      "3|**Posts must be related to Starbucks**\n",
      " |All posts must be related to Starbucks as a company or a brand.\n",
      "4|**No Graphic/NSFL/Pornographic Content**\n",
      " |Content that is graphic, NSFL (Not Safe for Life) or pornographic in nature is not permitted.\n",
      "5|**No Threatening or Inciting Violence**\n",
      " |We do not allow posts that are threatening in nature or encourage violence, death, or injury, including self-inflicted!\n",
      "6|**No Discrimination**\n",
      " |We do not allow posts that are discriminatory to certain groups or people, including discrimination based on ethnicity, race, gender, sexual orientation, sexual identity, and more. This includes slurs and derogatory terms!\n",
      "7|**No Publishing Internal Resources**\n",
      " |Internal corporate resources are not to be published. Documents may be discussed, however the publication of imagery depicting documents or specific upcoming product names released by corporate is forbidden. [(See rules page for a full description.)](https://www.reddit.com/r/starbucks/about/rules/)\n",
      "8|**No Personal Information**\n",
      " |Please do not post someone else's or your own personal information, or post links to personal information as this violates both the Reddiquette and Reddit's Content Policy.\n",
      "\n",
      "#PARTNER HUB SITE\n",
      "[partner.starbucks.com](https://partner.starbucks.com/)\n",
      "\n",
      "#SIMILAR SUBREDDITS\n",
      "- /r/TalesFromYourBarista\n",
      "- /r/barista \n",
      "- /r/Coffee \n",
      "- /r/StarbucksPartners\n",
      "- /r/coffeestations \n",
      "\n",
      "&nbsp;\n",
      "\n",
      "Comments, questions or complaints? [Please message the moderators!](https://www.reddit.com/message/compose?to=%2Fr%2Fstarbucks)\n",
      "starbucks\n",
      "None\n",
      "260117\n",
      "any\n",
      "public\n",
      "Starbucks\n",
      "/r/starbucks/\n"
     ]
    }
   ],
   "source": [
    "print(subreddit.accounts_active) # Number of users active in the last 15 minutes\n",
    "print(subreddit.description)     # Sidebar text\n",
    "print(subreddit.display_name)    # Human name of the subreddit\n",
    "print(subreddit.header_img)      # Full URL to the header image, or null\n",
    "print(subreddit.subscribers)     # The number of Redditors subscribed to this subreddit\n",
    "print(subreddit.submission_type) # The type of submissions the subreddit allows - one of \"any\", \"link\" or \"self\"\n",
    "print(subreddit.subreddit_type)  # The subreddit's type - one of \"public\", \"private\", \"restricted\", or in very special cases \"gold_restricted\" or \"archived\"\n",
    "print(subreddit.title)           # Title of the main page\n",
    "print(subreddit.url)             # The relative URL of the subreddit. Ex: \"/r/pics/\""
   ]
  },
  {
   "cell_type": "code",
   "execution_count": null,
   "id": "83cdcd71",
   "metadata": {},
   "outputs": [],
   "source": []
  }
 ],
 "metadata": {
  "kernelspec": {
   "display_name": "Python 3 (ipykernel)",
   "language": "python",
   "name": "python3"
  },
  "language_info": {
   "codemirror_mode": {
    "name": "ipython",
    "version": 3
   },
   "file_extension": ".py",
   "mimetype": "text/x-python",
   "name": "python",
   "nbconvert_exporter": "python",
   "pygments_lexer": "ipython3",
   "version": "3.11.2"
  }
 },
 "nbformat": 4,
 "nbformat_minor": 5
}
