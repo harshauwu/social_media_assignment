{
 "cells": [
  {
   "cell_type": "code",
   "execution_count": 3,
   "id": "dd43e01d",
   "metadata": {},
   "outputs": [],
   "source": [
    "import pandas as pd"
   ]
  },
  {
   "cell_type": "code",
   "execution_count": 4,
   "id": "955ee6ca",
   "metadata": {},
   "outputs": [],
   "source": [
    "# Load the historical data\n",
    "# df = pd.read_csv('starbucks_post_comment_raw_data.csv')"
   ]
  },
  {
   "cell_type": "code",
   "execution_count": 5,
   "id": "02ef1f8b",
   "metadata": {},
   "outputs": [],
   "source": [
    "data =  [\n",
    "        {\n",
    "            \"comment_auther\": \"ballercrantz\",\n",
    "            \"post_author\": \"SeriousStarbs\"\n",
    "        },\n",
    "        {\n",
    "            \"comment_auther\": \"puttybutty\",\n",
    "            \"post_author\": \"SeriousStarbs\"\n",
    "        },\n",
    "        {\n",
    "            \"comment_auther\": \"SoggyDayDot\",\n",
    "            \"post_author\": \"SeriousStarbs\"\n",
    "        },\n",
    "        {\n",
    "            \"comment_auther\": \"RedBanana99\",\n",
    "            \"post_author\": \"SeriousStarbs\"\n",
    "        }]\n"
   ]
  },
  {
   "cell_type": "code",
   "execution_count": 6,
   "id": "3edc31e8",
   "metadata": {},
   "outputs": [
    {
     "name": "stdout",
     "output_type": "stream",
     "text": [
      "  comment_auther    post_author\n",
      "0   ballercrantz  SeriousStarbs\n",
      "1     puttybutty  SeriousStarbs\n",
      "2    SoggyDayDot  SeriousStarbs\n",
      "3    RedBanana99  SeriousStarbs\n"
     ]
    }
   ],
   "source": [
    "# Create a pandas DataFrame from the data\n",
    "df = pd.DataFrame(data)\n",
    "\n",
    "# Print or inspect the resulting DataFrame\n",
    "print(df)"
   ]
  },
  {
   "cell_type": "code",
   "execution_count": 7,
   "id": "61285c5c",
   "metadata": {},
   "outputs": [],
   "source": [
    "import networkx as nx"
   ]
  },
  {
   "cell_type": "code",
   "execution_count": 8,
   "id": "9fe59971",
   "metadata": {},
   "outputs": [],
   "source": [
    "G = nx.Graph()"
   ]
  },
  {
   "cell_type": "code",
   "execution_count": 9,
   "id": "2cbc6e3d",
   "metadata": {},
   "outputs": [],
   "source": [
    "degree_centrality = nx.degree_centrality(G)"
   ]
  },
  {
   "cell_type": "code",
   "execution_count": 10,
   "id": "15997e4e",
   "metadata": {},
   "outputs": [],
   "source": [
    "# Sort authors by degree centrality in descending order\n",
    "sorted_authors_by_degree = sorted(degree_centrality.items(), key=lambda x: x[1], reverse=True)\n",
    "\n",
    "# Print authors with the highest degree centrality values\n",
    "num_top_authors = 5  # You can change this number to get more or fewer top authors\n",
    "top_authors = sorted_authors_by_degree[:num_top_authors]"
   ]
  },
  {
   "cell_type": "code",
   "execution_count": 11,
   "id": "3df08ff8",
   "metadata": {},
   "outputs": [
    {
     "data": {
      "text/plain": [
       "[]"
      ]
     },
     "execution_count": 11,
     "metadata": {},
     "output_type": "execute_result"
    }
   ],
   "source": [
    "top_authors"
   ]
  },
  {
   "cell_type": "code",
   "execution_count": null,
   "id": "218de690",
   "metadata": {},
   "outputs": [],
   "source": []
  }
 ],
 "metadata": {
  "kernelspec": {
   "display_name": "Python 3 (ipykernel)",
   "language": "python",
   "name": "python3"
  },
  "language_info": {
   "codemirror_mode": {
    "name": "ipython",
    "version": 3
   },
   "file_extension": ".py",
   "mimetype": "text/x-python",
   "name": "python",
   "nbconvert_exporter": "python",
   "pygments_lexer": "ipython3",
   "version": "3.11.2"
  }
 },
 "nbformat": 4,
 "nbformat_minor": 5
}
