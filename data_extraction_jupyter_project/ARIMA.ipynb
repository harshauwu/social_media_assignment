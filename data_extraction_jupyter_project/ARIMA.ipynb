{
 "cells": [
  {
   "cell_type": "markdown",
   "id": "590197af",
   "metadata": {},
   "source": [
    "## ARIMA"
   ]
  },
  {
   "cell_type": "code",
   "execution_count": 128,
   "id": "19bc6b87",
   "metadata": {},
   "outputs": [],
   "source": [
    "import numpy as np\n",
    "import pandas as pd\n",
    "from statsmodels.tsa.arima.model import ARIMA\n",
    "import matplotlib.pyplot as plt\n",
    "%matplotlib inline"
   ]
  },
  {
   "cell_type": "code",
   "execution_count": 129,
   "id": "9d214c39",
   "metadata": {},
   "outputs": [],
   "source": [
    "df=pd.read_csv('starbucks_data.csv')\n"
   ]
  },
  {
   "cell_type": "code",
   "execution_count": 130,
   "id": "90f63f5a",
   "metadata": {},
   "outputs": [
    {
     "data": {
      "text/html": [
       "<div>\n",
       "<style scoped>\n",
       "    .dataframe tbody tr th:only-of-type {\n",
       "        vertical-align: middle;\n",
       "    }\n",
       "\n",
       "    .dataframe tbody tr th {\n",
       "        vertical-align: top;\n",
       "    }\n",
       "\n",
       "    .dataframe thead th {\n",
       "        text-align: right;\n",
       "    }\n",
       "</style>\n",
       "<table border=\"1\" class=\"dataframe\">\n",
       "  <thead>\n",
       "    <tr style=\"text-align: right;\">\n",
       "      <th></th>\n",
       "      <th>title</th>\n",
       "      <th>score</th>\n",
       "      <th>id</th>\n",
       "      <th>url</th>\n",
       "      <th>comms_num</th>\n",
       "      <th>created</th>\n",
       "      <th>body</th>\n",
       "      <th>author</th>\n",
       "      <th>subreddit</th>\n",
       "    </tr>\n",
       "  </thead>\n",
       "  <tbody>\n",
       "    <tr>\n",
       "      <th>0</th>\n",
       "      <td>THEY WON THE UNION VOTE</td>\n",
       "      <td>16011</td>\n",
       "      <td>rco8xd</td>\n",
       "      <td>https://www.reddit.com/r/starbucks/comments/rc...</td>\n",
       "      <td>409</td>\n",
       "      <td>1.639076e+09</td>\n",
       "      <td>NaN</td>\n",
       "      <td>witchezbrew</td>\n",
       "      <td>starbucks</td>\n",
       "    </tr>\n",
       "    <tr>\n",
       "      <th>1</th>\n",
       "      <td>60 Frappuccino’s with no tip… $279</td>\n",
       "      <td>9534</td>\n",
       "      <td>p9283m</td>\n",
       "      <td>https://i.redd.it/1td7kk2ewsi71.jpg</td>\n",
       "      <td>273</td>\n",
       "      <td>1.629591e+09</td>\n",
       "      <td>NaN</td>\n",
       "      <td>Relative_Nail_3145</td>\n",
       "      <td>starbucks</td>\n",
       "    </tr>\n",
       "    <tr>\n",
       "      <th>2</th>\n",
       "      <td>I'm not allowed to make signs anymore.</td>\n",
       "      <td>6938</td>\n",
       "      <td>3gscwr</td>\n",
       "      <td>http://imgur.com/plwvC9P</td>\n",
       "      <td>263</td>\n",
       "      <td>1.439424e+09</td>\n",
       "      <td>NaN</td>\n",
       "      <td>DragonTwain</td>\n",
       "      <td>starbucks</td>\n",
       "    </tr>\n",
       "    <tr>\n",
       "      <th>3</th>\n",
       "      <td>What did you get fired for?</td>\n",
       "      <td>6579</td>\n",
       "      <td>pou8vz</td>\n",
       "      <td>https://www.reddit.com/r/starbucks/comments/po...</td>\n",
       "      <td>530</td>\n",
       "      <td>1.631725e+09</td>\n",
       "      <td>I want to hear your stories. Me, I got the axe...</td>\n",
       "      <td>PossiblyUnhinged</td>\n",
       "      <td>starbucks</td>\n",
       "    </tr>\n",
       "    <tr>\n",
       "      <th>4</th>\n",
       "      <td>An inspiration to us all 🙌🏻</td>\n",
       "      <td>6348</td>\n",
       "      <td>pa07hq</td>\n",
       "      <td>https://i.redd.it/uoroeqha44j71.jpg</td>\n",
       "      <td>87</td>\n",
       "      <td>1.629727e+09</td>\n",
       "      <td>NaN</td>\n",
       "      <td>annaplatt411</td>\n",
       "      <td>starbucks</td>\n",
       "    </tr>\n",
       "  </tbody>\n",
       "</table>\n",
       "</div>"
      ],
      "text/plain": [
       "                                    title  score      id   \n",
       "0                 THEY WON THE UNION VOTE  16011  rco8xd  \\\n",
       "1      60 Frappuccino’s with no tip… $279   9534  p9283m   \n",
       "2  I'm not allowed to make signs anymore.   6938  3gscwr   \n",
       "3             What did you get fired for?   6579  pou8vz   \n",
       "4             An inspiration to us all 🙌🏻   6348  pa07hq   \n",
       "\n",
       "                                                 url  comms_num       created   \n",
       "0  https://www.reddit.com/r/starbucks/comments/rc...        409  1.639076e+09  \\\n",
       "1                https://i.redd.it/1td7kk2ewsi71.jpg        273  1.629591e+09   \n",
       "2                           http://imgur.com/plwvC9P        263  1.439424e+09   \n",
       "3  https://www.reddit.com/r/starbucks/comments/po...        530  1.631725e+09   \n",
       "4                https://i.redd.it/uoroeqha44j71.jpg         87  1.629727e+09   \n",
       "\n",
       "                                                body              author   \n",
       "0                                                NaN         witchezbrew  \\\n",
       "1                                                NaN  Relative_Nail_3145   \n",
       "2                                                NaN         DragonTwain   \n",
       "3  I want to hear your stories. Me, I got the axe...    PossiblyUnhinged   \n",
       "4                                                NaN        annaplatt411   \n",
       "\n",
       "   subreddit  \n",
       "0  starbucks  \n",
       "1  starbucks  \n",
       "2  starbucks  \n",
       "3  starbucks  \n",
       "4  starbucks  "
      ]
     },
     "execution_count": 130,
     "metadata": {},
     "output_type": "execute_result"
    }
   ],
   "source": [
    "df.head()"
   ]
  },
  {
   "cell_type": "code",
   "execution_count": 131,
   "id": "a7e193cc",
   "metadata": {},
   "outputs": [],
   "source": [
    "# Convert the 'created' column to a datetime format\n",
    "df['created'] = pd.to_datetime(df['created'], unit='s')"
   ]
  },
  {
   "cell_type": "code",
   "execution_count": 132,
   "id": "9c0db128",
   "metadata": {},
   "outputs": [],
   "source": [
    "# Format the 'created' column as \"yyyy-mm-dd\"\n",
    "df['created'] = df['created'].dt.strftime('%Y-%m-%d')"
   ]
  },
  {
   "cell_type": "code",
   "execution_count": 133,
   "id": "85687a52",
   "metadata": {},
   "outputs": [
    {
     "data": {
      "text/html": [
       "<div>\n",
       "<style scoped>\n",
       "    .dataframe tbody tr th:only-of-type {\n",
       "        vertical-align: middle;\n",
       "    }\n",
       "\n",
       "    .dataframe tbody tr th {\n",
       "        vertical-align: top;\n",
       "    }\n",
       "\n",
       "    .dataframe thead th {\n",
       "        text-align: right;\n",
       "    }\n",
       "</style>\n",
       "<table border=\"1\" class=\"dataframe\">\n",
       "  <thead>\n",
       "    <tr style=\"text-align: right;\">\n",
       "      <th></th>\n",
       "      <th>title</th>\n",
       "      <th>score</th>\n",
       "      <th>id</th>\n",
       "      <th>url</th>\n",
       "      <th>comms_num</th>\n",
       "      <th>created</th>\n",
       "      <th>body</th>\n",
       "      <th>author</th>\n",
       "      <th>subreddit</th>\n",
       "    </tr>\n",
       "  </thead>\n",
       "  <tbody>\n",
       "    <tr>\n",
       "      <th>0</th>\n",
       "      <td>THEY WON THE UNION VOTE</td>\n",
       "      <td>16011</td>\n",
       "      <td>rco8xd</td>\n",
       "      <td>https://www.reddit.com/r/starbucks/comments/rc...</td>\n",
       "      <td>409</td>\n",
       "      <td>2021-12-09</td>\n",
       "      <td>NaN</td>\n",
       "      <td>witchezbrew</td>\n",
       "      <td>starbucks</td>\n",
       "    </tr>\n",
       "    <tr>\n",
       "      <th>1</th>\n",
       "      <td>60 Frappuccino’s with no tip… $279</td>\n",
       "      <td>9534</td>\n",
       "      <td>p9283m</td>\n",
       "      <td>https://i.redd.it/1td7kk2ewsi71.jpg</td>\n",
       "      <td>273</td>\n",
       "      <td>2021-08-22</td>\n",
       "      <td>NaN</td>\n",
       "      <td>Relative_Nail_3145</td>\n",
       "      <td>starbucks</td>\n",
       "    </tr>\n",
       "    <tr>\n",
       "      <th>2</th>\n",
       "      <td>I'm not allowed to make signs anymore.</td>\n",
       "      <td>6938</td>\n",
       "      <td>3gscwr</td>\n",
       "      <td>http://imgur.com/plwvC9P</td>\n",
       "      <td>263</td>\n",
       "      <td>2015-08-12</td>\n",
       "      <td>NaN</td>\n",
       "      <td>DragonTwain</td>\n",
       "      <td>starbucks</td>\n",
       "    </tr>\n",
       "    <tr>\n",
       "      <th>3</th>\n",
       "      <td>What did you get fired for?</td>\n",
       "      <td>6579</td>\n",
       "      <td>pou8vz</td>\n",
       "      <td>https://www.reddit.com/r/starbucks/comments/po...</td>\n",
       "      <td>530</td>\n",
       "      <td>2021-09-15</td>\n",
       "      <td>I want to hear your stories. Me, I got the axe...</td>\n",
       "      <td>PossiblyUnhinged</td>\n",
       "      <td>starbucks</td>\n",
       "    </tr>\n",
       "    <tr>\n",
       "      <th>4</th>\n",
       "      <td>An inspiration to us all 🙌🏻</td>\n",
       "      <td>6348</td>\n",
       "      <td>pa07hq</td>\n",
       "      <td>https://i.redd.it/uoroeqha44j71.jpg</td>\n",
       "      <td>87</td>\n",
       "      <td>2021-08-23</td>\n",
       "      <td>NaN</td>\n",
       "      <td>annaplatt411</td>\n",
       "      <td>starbucks</td>\n",
       "    </tr>\n",
       "  </tbody>\n",
       "</table>\n",
       "</div>"
      ],
      "text/plain": [
       "                                    title  score      id   \n",
       "0                 THEY WON THE UNION VOTE  16011  rco8xd  \\\n",
       "1      60 Frappuccino’s with no tip… $279   9534  p9283m   \n",
       "2  I'm not allowed to make signs anymore.   6938  3gscwr   \n",
       "3             What did you get fired for?   6579  pou8vz   \n",
       "4             An inspiration to us all 🙌🏻   6348  pa07hq   \n",
       "\n",
       "                                                 url  comms_num     created   \n",
       "0  https://www.reddit.com/r/starbucks/comments/rc...        409  2021-12-09  \\\n",
       "1                https://i.redd.it/1td7kk2ewsi71.jpg        273  2021-08-22   \n",
       "2                           http://imgur.com/plwvC9P        263  2015-08-12   \n",
       "3  https://www.reddit.com/r/starbucks/comments/po...        530  2021-09-15   \n",
       "4                https://i.redd.it/uoroeqha44j71.jpg         87  2021-08-23   \n",
       "\n",
       "                                                body              author   \n",
       "0                                                NaN         witchezbrew  \\\n",
       "1                                                NaN  Relative_Nail_3145   \n",
       "2                                                NaN         DragonTwain   \n",
       "3  I want to hear your stories. Me, I got the axe...    PossiblyUnhinged   \n",
       "4                                                NaN        annaplatt411   \n",
       "\n",
       "   subreddit  \n",
       "0  starbucks  \n",
       "1  starbucks  \n",
       "2  starbucks  \n",
       "3  starbucks  \n",
       "4  starbucks  "
      ]
     },
     "execution_count": 133,
     "metadata": {},
     "output_type": "execute_result"
    }
   ],
   "source": [
    "df.head()"
   ]
  },
  {
   "cell_type": "code",
   "execution_count": 134,
   "id": "a76d5919",
   "metadata": {},
   "outputs": [
    {
     "data": {
      "text/html": [
       "<div>\n",
       "<style scoped>\n",
       "    .dataframe tbody tr th:only-of-type {\n",
       "        vertical-align: middle;\n",
       "    }\n",
       "\n",
       "    .dataframe tbody tr th {\n",
       "        vertical-align: top;\n",
       "    }\n",
       "\n",
       "    .dataframe thead th {\n",
       "        text-align: right;\n",
       "    }\n",
       "</style>\n",
       "<table border=\"1\" class=\"dataframe\">\n",
       "  <thead>\n",
       "    <tr style=\"text-align: right;\">\n",
       "      <th></th>\n",
       "      <th>title</th>\n",
       "      <th>score</th>\n",
       "      <th>id</th>\n",
       "      <th>url</th>\n",
       "      <th>comms_num</th>\n",
       "      <th>created</th>\n",
       "      <th>body</th>\n",
       "      <th>author</th>\n",
       "      <th>subreddit</th>\n",
       "    </tr>\n",
       "  </thead>\n",
       "  <tbody>\n",
       "    <tr>\n",
       "      <th>992</th>\n",
       "      <td>it be like that</td>\n",
       "      <td>1563</td>\n",
       "      <td>fjuhfk</td>\n",
       "      <td>https://i.redd.it/hj2t9lpx94n41.jpg</td>\n",
       "      <td>75</td>\n",
       "      <td>2020-03-16</td>\n",
       "      <td>NaN</td>\n",
       "      <td>rnintz</td>\n",
       "      <td>starbucks</td>\n",
       "    </tr>\n",
       "    <tr>\n",
       "      <th>993</th>\n",
       "      <td>Not sure which makes me happier, our raises or...</td>\n",
       "      <td>1560</td>\n",
       "      <td>x43olu</td>\n",
       "      <td>https://i.redd.it/h9ll6q6qmgl91.jpg</td>\n",
       "      <td>149</td>\n",
       "      <td>2022-09-02</td>\n",
       "      <td>NaN</td>\n",
       "      <td>rdm101020</td>\n",
       "      <td>starbucks</td>\n",
       "    </tr>\n",
       "    <tr>\n",
       "      <th>994</th>\n",
       "      <td>What's your favorite moment of instant karma w...</td>\n",
       "      <td>1562</td>\n",
       "      <td>v8asys</td>\n",
       "      <td>https://www.reddit.com/r/starbucks/comments/v8...</td>\n",
       "      <td>137</td>\n",
       "      <td>2022-06-09</td>\n",
       "      <td>For me, it was when a lady complained that her...</td>\n",
       "      <td>matchawaffles</td>\n",
       "      <td>starbucks</td>\n",
       "    </tr>\n",
       "    <tr>\n",
       "      <th>995</th>\n",
       "      <td>These modifications are getting ridiculous🙄</td>\n",
       "      <td>1560</td>\n",
       "      <td>v0dnm5</td>\n",
       "      <td>https://i.redd.it/68nryet8pf291.jpg</td>\n",
       "      <td>56</td>\n",
       "      <td>2022-05-29</td>\n",
       "      <td>NaN</td>\n",
       "      <td>Potential_Moment6773</td>\n",
       "      <td>starbucks</td>\n",
       "    </tr>\n",
       "    <tr>\n",
       "      <th>996</th>\n",
       "      <td>My manager made the moment right in the best way</td>\n",
       "      <td>1561</td>\n",
       "      <td>de8wp6</td>\n",
       "      <td>https://www.reddit.com/r/starbucks/comments/de...</td>\n",
       "      <td>51</td>\n",
       "      <td>2019-10-06</td>\n",
       "      <td>A lady yelled at my manager today because her ...</td>\n",
       "      <td>StellaLuxx</td>\n",
       "      <td>starbucks</td>\n",
       "    </tr>\n",
       "  </tbody>\n",
       "</table>\n",
       "</div>"
      ],
      "text/plain": [
       "                                                 title  score      id   \n",
       "992                                    it be like that   1563  fjuhfk  \\\n",
       "993  Not sure which makes me happier, our raises or...   1560  x43olu   \n",
       "994  What's your favorite moment of instant karma w...   1562  v8asys   \n",
       "995        These modifications are getting ridiculous🙄   1560  v0dnm5   \n",
       "996   My manager made the moment right in the best way   1561  de8wp6   \n",
       "\n",
       "                                                   url  comms_num     created   \n",
       "992                https://i.redd.it/hj2t9lpx94n41.jpg         75  2020-03-16  \\\n",
       "993                https://i.redd.it/h9ll6q6qmgl91.jpg        149  2022-09-02   \n",
       "994  https://www.reddit.com/r/starbucks/comments/v8...        137  2022-06-09   \n",
       "995                https://i.redd.it/68nryet8pf291.jpg         56  2022-05-29   \n",
       "996  https://www.reddit.com/r/starbucks/comments/de...         51  2019-10-06   \n",
       "\n",
       "                                                  body                author   \n",
       "992                                                NaN                rnintz  \\\n",
       "993                                                NaN             rdm101020   \n",
       "994  For me, it was when a lady complained that her...         matchawaffles   \n",
       "995                                                NaN  Potential_Moment6773   \n",
       "996  A lady yelled at my manager today because her ...            StellaLuxx   \n",
       "\n",
       "     subreddit  \n",
       "992  starbucks  \n",
       "993  starbucks  \n",
       "994  starbucks  \n",
       "995  starbucks  \n",
       "996  starbucks  "
      ]
     },
     "execution_count": 134,
     "metadata": {},
     "output_type": "execute_result"
    }
   ],
   "source": [
    "df.tail()"
   ]
  },
  {
   "cell_type": "code",
   "execution_count": 135,
   "id": "ccc26070",
   "metadata": {},
   "outputs": [],
   "source": [
    "# Drop the 'score' and 'created' columns\n",
    "df = df.drop(['title', 'id', 'url', 'comms_num', 'body', 'author', 'subreddit'], axis=1)\n"
   ]
  },
  {
   "cell_type": "code",
   "execution_count": 136,
   "id": "530f953e",
   "metadata": {},
   "outputs": [],
   "source": [
    "df.set_index('created', inplace=True)"
   ]
  },
  {
   "cell_type": "code",
   "execution_count": 137,
   "id": "45a72c48",
   "metadata": {},
   "outputs": [],
   "source": [
    "# from sklearn.model_selection import train_test_split"
   ]
  },
  {
   "cell_type": "code",
   "execution_count": 138,
   "id": "90429e04",
   "metadata": {},
   "outputs": [],
   "source": [
    "\n",
    "# Convert 'created' column to datetime if not already done\n",
    "# df['created'] = pd.to_datetime(df['created'])\n"
   ]
  },
  {
   "cell_type": "code",
   "execution_count": 139,
   "id": "f7f5f916",
   "metadata": {},
   "outputs": [],
   "source": [
    "# Sort the DataFrame by date (if it's not already sorted)\n",
    "# df.sort_values(by='created', inplace=True)"
   ]
  },
  {
   "cell_type": "code",
   "execution_count": 140,
   "id": "17c4ccbd",
   "metadata": {},
   "outputs": [],
   "source": [
    "# Split the data into training and testing sets\n",
    "# You can adjust the test_size as needed (e.g., test_size=0.2 for an 80/20 split)\n",
    "# train_size = 0.8  # 80% of the data for training, 20% for testing\n",
    "# split_index = int(len(df) * train_size)\n",
    "\n",
    "# train_data = df[:split_index]\n",
    "# test_data = df[split_index:]"
   ]
  },
  {
   "cell_type": "code",
   "execution_count": 141,
   "id": "7fec2241",
   "metadata": {},
   "outputs": [],
   "source": [
    "\n",
    "# Print the shapes of the training and testing sets\n",
    "# print(\"Training data shape:\", train_data.shape)\n",
    "# print(\"Testing data shape:\", test_data.shape)"
   ]
  },
  {
   "cell_type": "code",
   "execution_count": 142,
   "id": "ed620bc8",
   "metadata": {},
   "outputs": [
    {
     "data": {
      "text/html": [
       "<div>\n",
       "<style scoped>\n",
       "    .dataframe tbody tr th:only-of-type {\n",
       "        vertical-align: middle;\n",
       "    }\n",
       "\n",
       "    .dataframe tbody tr th {\n",
       "        vertical-align: top;\n",
       "    }\n",
       "\n",
       "    .dataframe thead th {\n",
       "        text-align: right;\n",
       "    }\n",
       "</style>\n",
       "<table border=\"1\" class=\"dataframe\">\n",
       "  <thead>\n",
       "    <tr style=\"text-align: right;\">\n",
       "      <th></th>\n",
       "      <th>score</th>\n",
       "    </tr>\n",
       "    <tr>\n",
       "      <th>created</th>\n",
       "      <th></th>\n",
       "    </tr>\n",
       "  </thead>\n",
       "  <tbody>\n",
       "    <tr>\n",
       "      <th>2021-12-09</th>\n",
       "      <td>16011</td>\n",
       "    </tr>\n",
       "    <tr>\n",
       "      <th>2021-08-22</th>\n",
       "      <td>9534</td>\n",
       "    </tr>\n",
       "    <tr>\n",
       "      <th>2015-08-12</th>\n",
       "      <td>6938</td>\n",
       "    </tr>\n",
       "    <tr>\n",
       "      <th>2021-09-15</th>\n",
       "      <td>6579</td>\n",
       "    </tr>\n",
       "    <tr>\n",
       "      <th>2021-08-23</th>\n",
       "      <td>6348</td>\n",
       "    </tr>\n",
       "    <tr>\n",
       "      <th>...</th>\n",
       "      <td>...</td>\n",
       "    </tr>\n",
       "    <tr>\n",
       "      <th>2020-03-16</th>\n",
       "      <td>1563</td>\n",
       "    </tr>\n",
       "    <tr>\n",
       "      <th>2022-09-02</th>\n",
       "      <td>1560</td>\n",
       "    </tr>\n",
       "    <tr>\n",
       "      <th>2022-06-09</th>\n",
       "      <td>1562</td>\n",
       "    </tr>\n",
       "    <tr>\n",
       "      <th>2022-05-29</th>\n",
       "      <td>1560</td>\n",
       "    </tr>\n",
       "    <tr>\n",
       "      <th>2019-10-06</th>\n",
       "      <td>1561</td>\n",
       "    </tr>\n",
       "  </tbody>\n",
       "</table>\n",
       "<p>997 rows × 1 columns</p>\n",
       "</div>"
      ],
      "text/plain": [
       "            score\n",
       "created          \n",
       "2021-12-09  16011\n",
       "2021-08-22   9534\n",
       "2015-08-12   6938\n",
       "2021-09-15   6579\n",
       "2021-08-23   6348\n",
       "...           ...\n",
       "2020-03-16   1563\n",
       "2022-09-02   1560\n",
       "2022-06-09   1562\n",
       "2022-05-29   1560\n",
       "2019-10-06   1561\n",
       "\n",
       "[997 rows x 1 columns]"
      ]
     },
     "execution_count": 142,
     "metadata": {},
     "output_type": "execute_result"
    }
   ],
   "source": [
    "df"
   ]
  },
  {
   "cell_type": "code",
   "execution_count": 143,
   "id": "81163063",
   "metadata": {},
   "outputs": [
    {
     "data": {
      "image/png": "[encoded data removed]",
      "text/plain": [
       "<Figure size 1200x600 with 1 Axes>"
      ]
     },
     "metadata": {},
     "output_type": "display_data"
    }
   ],
   "source": [
    "plt.figure(figsize=(12, 6))\n",
    "plt.plot(df['score'])\n",
    "plt.title('Time Series Data')\n",
    "plt.xlabel('Date')\n",
    "plt.ylabel('Score')\n",
    "plt.show()"
   ]
  },
  {
   "cell_type": "markdown",
   "id": "e16156b4",
   "metadata": {},
   "source": [
    "## Stationarity Check:"
   ]
  },
  {
   "cell_type": "code",
   "execution_count": 144,
   "id": "fac9f466",
   "metadata": {},
   "outputs": [],
   "source": [
    "from statsmodels.tsa.stattools import adfuller"
   ]
  },
  {
   "cell_type": "code",
   "execution_count": 145,
   "id": "64e7c952",
   "metadata": {},
   "outputs": [
    {
     "name": "stdout",
     "output_type": "stream",
     "text": [
      "ADF Statistic: -5.557444757373775\n",
      "p-value: 1.5692300423885108e-06\n"
     ]
    }
   ],
   "source": [
    "result = adfuller(df['score'])\n",
    "print('ADF Statistic:', result[0])\n",
    "print('p-value:', result[1])"
   ]
  },
  {
   "cell_type": "markdown",
   "id": "81039ffa",
   "metadata": {},
   "source": [
    "## Modeling:\n"
   ]
  },
  {
   "cell_type": "code",
   "execution_count": 146,
   "id": "5b512ca4",
   "metadata": {},
   "outputs": [
    {
     "name": "stderr",
     "output_type": "stream",
     "text": [
      "/usr/local/lib/python3.11/site-packages/statsmodels/tsa/base/tsa_model.py:473: ValueWarning: A date index has been provided, but it has no associated frequency information and so will be ignored when e.g. forecasting.\n",
      "  self._init_dates(dates, freq)\n",
      "/usr/local/lib/python3.11/site-packages/statsmodels/tsa/base/tsa_model.py:473: ValueWarning: A date index has been provided, but it is not monotonic and so will be ignored when e.g. forecasting.\n",
      "  self._init_dates(dates, freq)\n",
      "/usr/local/lib/python3.11/site-packages/statsmodels/tsa/base/tsa_model.py:473: ValueWarning: A date index has been provided, but it has no associated frequency information and so will be ignored when e.g. forecasting.\n",
      "  self._init_dates(dates, freq)\n",
      "/usr/local/lib/python3.11/site-packages/statsmodels/tsa/base/tsa_model.py:473: ValueWarning: A date index has been provided, but it is not monotonic and so will be ignored when e.g. forecasting.\n",
      "  self._init_dates(dates, freq)\n",
      "/usr/local/lib/python3.11/site-packages/statsmodels/tsa/base/tsa_model.py:473: ValueWarning: A date index has been provided, but it has no associated frequency information and so will be ignored when e.g. forecasting.\n",
      "  self._init_dates(dates, freq)\n",
      "/usr/local/lib/python3.11/site-packages/statsmodels/tsa/base/tsa_model.py:473: ValueWarning: A date index has been provided, but it is not monotonic and so will be ignored when e.g. forecasting.\n",
      "  self._init_dates(dates, freq)\n"
     ]
    },
    {
     "name": "stdout",
     "output_type": "stream",
     "text": [
      "                               SARIMAX Results                                \n",
      "==============================================================================\n",
      "Dep. Variable:                  score   No. Observations:                  997\n",
      "Model:                 ARIMA(1, 1, 1)   Log Likelihood               -6328.766\n",
      "Date:                Fri, 29 Sep 2023   AIC                          12663.532\n",
      "Time:                        14:10:35   BIC                          12678.243\n",
      "Sample:                             0   HQIC                         12669.124\n",
      "                                - 997                                         \n",
      "Covariance Type:                  opg                                         \n",
      "==============================================================================\n",
      "                 coef    std err          z      P>|z|      [0.025      0.975]\n",
      "------------------------------------------------------------------------------\n",
      "ar.L1          0.9253      0.001    765.063      0.000       0.923       0.928\n",
      "ma.L1          0.7073      0.010     73.178      0.000       0.688       0.726\n",
      "sigma2      1.312e+04    117.064    112.086      0.000    1.29e+04    1.34e+04\n",
      "===================================================================================\n",
      "Ljung-Box (L1) (Q):                 255.03   Jarque-Bera (JB):           6760767.28\n",
      "Prob(Q):                              0.00   Prob(JB):                         0.00\n",
      "Heteroskedasticity (H):               0.00   Skew:                             7.14\n",
      "Prob(H) (two-sided):                  0.00   Kurtosis:                       406.37\n",
      "===================================================================================\n",
      "\n",
      "Warnings:\n",
      "[1] Covariance matrix calculated using the outer product of gradients (complex-step).\n"
     ]
    }
   ],
   "source": [
    "# Define the ARIMA model (p, d, q)\n",
    "p, d, q = 1, 1, 1\n",
    "model = ARIMA(df['score'], order=(p, d, q))\n",
    "\n",
    "# Fit the model\n",
    "model_fit = model.fit()\n",
    "\n",
    "# Print model summary\n",
    "print(model_fit.summary())\n"
   ]
  },
  {
   "cell_type": "markdown",
   "id": "b40c434e",
   "metadata": {},
   "source": [
    "## Plot Residuals:"
   ]
  },
  {
   "cell_type": "code",
   "execution_count": 147,
   "id": "7e46320a",
   "metadata": {},
   "outputs": [
    {
     "data": {
      "image/png": "[encoded data removed]",
      "text/plain": [
       "<Figure size 1200x600 with 1 Axes>"
      ]
     },
     "metadata": {},
     "output_type": "display_data"
    }
   ],
   "source": [
    "residuals = pd.Series(model_fit.resid, index=df.index)\n",
    "plt.figure(figsize=(12, 6))\n",
    "plt.plot(residuals)\n",
    "plt.title('Residuals')\n",
    "plt.xlabel('Date')\n",
    "plt.ylabel('Residual')\n",
    "plt.show()\n"
   ]
  },
  {
   "cell_type": "markdown",
   "id": "d141738c",
   "metadata": {},
   "source": [
    "## Forecasting"
   ]
  },
  {
   "cell_type": "code",
   "execution_count": 148,
   "id": "4e0a8b0b",
   "metadata": {},
   "outputs": [
    {
     "name": "stdout",
     "output_type": "stream",
     "text": [
      "Forecasted Values:\n",
      "997     1565.707135\n",
      "998     1570.062623\n",
      "999     1574.092732\n",
      "1000    1577.821770\n",
      "1001    1581.272230\n",
      "1002    1584.464921\n",
      "1003    1587.419102\n",
      "1004    1590.152590\n",
      "1005    1592.681871\n",
      "1006    1595.022202\n",
      "Name: predicted_mean, dtype: float64\n",
      "\n",
      "Confidence Intervals:\n",
      "      lower score  upper score\n",
      "997   1341.196504  1790.217767\n",
      "998    937.820318  2202.304927\n",
      "999    449.383694  2698.801770\n",
      "1000   -99.225341  3254.868882\n",
      "1001  -691.774742  3854.319201\n",
      "1002 -1316.857023  4485.786866\n",
      "1003 -1966.012611  5140.850815\n",
      "1004 -2632.746660  5813.051839\n",
      "1005 -3311.955879  6497.319621\n",
      "1006 -3999.566161  7189.610565\n"
     ]
    },
    {
     "name": "stderr",
     "output_type": "stream",
     "text": [
      "/usr/local/lib/python3.11/site-packages/statsmodels/tsa/base/tsa_model.py:836: ValueWarning: No supported index is available. Prediction results will be given with an integer index beginning at `start`.\n",
      "  return get_prediction_index(\n",
      "/usr/local/lib/python3.11/site-packages/statsmodels/tsa/base/tsa_model.py:836: FutureWarning: No supported index is available. In the next version, calling this method in a model without a supported index will result in an exception.\n",
      "  return get_prediction_index(\n"
     ]
    }
   ],
   "source": [
    "# Number of future periods to forecast\n",
    "forecast_periods = 10\n",
    "forecast = model_fit.get_forecast(steps=forecast_periods)\n",
    "\n",
    "# Get the forecasted values and their confidence intervals\n",
    "forecast_values = forecast.predicted_mean\n",
    "forecast_ci = forecast.conf_int()\n",
    "\n",
    "# Print the forecasted values and confidence intervals\n",
    "print(\"Forecasted Values:\")\n",
    "print(forecast_values)\n",
    "print(\"\\nConfidence Intervals:\")\n",
    "print(forecast_ci)\n"
   ]
  }
 ],
 "metadata": {
  "kernelspec": {
   "display_name": "Python 3 (ipykernel)",
   "language": "python",
   "name": "python3"
  },
  "language_info": {
   "codemirror_mode": {
    "name": "ipython",
    "version": 3
   },
   "file_extension": ".py",
   "mimetype": "text/x-python",
   "name": "python",
   "nbconvert_exporter": "python",
   "pygments_lexer": "ipython3",
   "version": "3.11.2"
  }
 },
 "nbformat": 4,
 "nbformat_minor": 5
}
