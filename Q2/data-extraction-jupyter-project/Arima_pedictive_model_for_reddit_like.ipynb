{
 "cells": [
  {
   "cell_type": "code",
   "execution_count": 4,
   "id": "aebbff05",
   "metadata": {},
   "outputs": [],
   "source": [
    "import numpy as np\n",
    "import pandas as pd\n",
    "from statsmodels.tsa.arima_model import ARIMA\n",
    "import statsmodels.api as sm"
   ]
  },
  {
   "cell_type": "code",
   "execution_count": 5,
   "id": "7cb070d8",
   "metadata": {},
   "outputs": [],
   "source": [
    "# Load the historical data\n",
    "df = pd.read_csv('starbucks_post_process_data.csv')"
   ]
  },
  {
   "cell_type": "code",
   "execution_count": 6,
   "id": "61e3a7fd",
   "metadata": {},
   "outputs": [
    {
     "data": {
      "text/html": [
       "<div>\n",
       "<style scoped>\n",
       "    .dataframe tbody tr th:only-of-type {\n",
       "        vertical-align: middle;\n",
       "    }\n",
       "\n",
       "    .dataframe tbody tr th {\n",
       "        vertical-align: top;\n",
       "    }\n",
       "\n",
       "    .dataframe thead th {\n",
       "        text-align: right;\n",
       "    }\n",
       "</style>\n",
       "<table border=\"1\" class=\"dataframe\">\n",
       "  <thead>\n",
       "    <tr style=\"text-align: right;\">\n",
       "      <th></th>\n",
       "      <th>title</th>\n",
       "      <th>score</th>\n",
       "      <th>post_id</th>\n",
       "      <th>url</th>\n",
       "      <th>comms_num</th>\n",
       "      <th>created</th>\n",
       "      <th>body</th>\n",
       "      <th>author</th>\n",
       "      <th>subreddit</th>\n",
       "      <th>created_date</th>\n",
       "      <th>created_time</th>\n",
       "    </tr>\n",
       "  </thead>\n",
       "  <tbody>\n",
       "    <tr>\n",
       "      <th>0</th>\n",
       "      <td>Why I quit</td>\n",
       "      <td>2020</td>\n",
       "      <td>15y4v3n</td>\n",
       "      <td>https://www.reddit.com/r/starbucks/comments/15...</td>\n",
       "      <td>123</td>\n",
       "      <td>2023-08-22 12:47:54</td>\n",
       "      <td>I requested a day off 3 months in advance so I...</td>\n",
       "      <td>colonade17</td>\n",
       "      <td>starbucks</td>\n",
       "      <td>2023-08-22</td>\n",
       "      <td>12:47:54</td>\n",
       "    </tr>\n",
       "    <tr>\n",
       "      <th>1</th>\n",
       "      <td>No one believed me when I said we had a cat in...</td>\n",
       "      <td>1645</td>\n",
       "      <td>1542rhe</td>\n",
       "      <td>https://i.redd.it/w5880yvasycb1.png</td>\n",
       "      <td>189</td>\n",
       "      <td>2023-07-19 18:23:58</td>\n",
       "      <td>His name is Finnegan, and he's back home now 💖</td>\n",
       "      <td>SuperVanessa007</td>\n",
       "      <td>starbucks</td>\n",
       "      <td>2023-07-19</td>\n",
       "      <td>18:23:58</td>\n",
       "    </tr>\n",
       "    <tr>\n",
       "      <th>2</th>\n",
       "      <td>Malicious compliance for a dumb new policy</td>\n",
       "      <td>1726</td>\n",
       "      <td>152oy92</td>\n",
       "      <td>https://i.redd.it/qa6pg67cpncb1.jpg</td>\n",
       "      <td>198</td>\n",
       "      <td>2023-07-18 05:07:43</td>\n",
       "      <td>My NEW DM (how are you gonna just start at my ...</td>\n",
       "      <td>Successful_Climate24</td>\n",
       "      <td>starbucks</td>\n",
       "      <td>2023-07-18</td>\n",
       "      <td>05:07:43</td>\n",
       "    </tr>\n",
       "    <tr>\n",
       "      <th>3</th>\n",
       "      <td>I enraged a wild Karen today...</td>\n",
       "      <td>1922</td>\n",
       "      <td>151es25</td>\n",
       "      <td>https://www.reddit.com/r/starbucks/comments/15...</td>\n",
       "      <td>134</td>\n",
       "      <td>2023-07-16 19:15:38</td>\n",
       "      <td>My coworker wears a mask each shift because th...</td>\n",
       "      <td>InvincibleSugar</td>\n",
       "      <td>starbucks</td>\n",
       "      <td>2023-07-16</td>\n",
       "      <td>19:15:38</td>\n",
       "    </tr>\n",
       "    <tr>\n",
       "      <th>4</th>\n",
       "      <td>I drew an iced americano in coloured pencil:</td>\n",
       "      <td>1925</td>\n",
       "      <td>14x2lun</td>\n",
       "      <td>https://i.redd.it/brul17ewbebb1.jpg</td>\n",
       "      <td>98</td>\n",
       "      <td>2023-07-11 20:32:09</td>\n",
       "      <td>Hey everyone! I’m an artist and ex-Starbucks b...</td>\n",
       "      <td>JOV_97</td>\n",
       "      <td>starbucks</td>\n",
       "      <td>2023-07-11</td>\n",
       "      <td>20:32:09</td>\n",
       "    </tr>\n",
       "  </tbody>\n",
       "</table>\n",
       "</div>"
      ],
      "text/plain": [
       "                                               title  score  post_id   \n",
       "0                                         Why I quit   2020  15y4v3n  \\\n",
       "1  No one believed me when I said we had a cat in...   1645  1542rhe   \n",
       "2         Malicious compliance for a dumb new policy   1726  152oy92   \n",
       "3                    I enraged a wild Karen today...   1922  151es25   \n",
       "4       I drew an iced americano in coloured pencil:   1925  14x2lun   \n",
       "\n",
       "                                                 url  comms_num   \n",
       "0  https://www.reddit.com/r/starbucks/comments/15...        123  \\\n",
       "1                https://i.redd.it/w5880yvasycb1.png        189   \n",
       "2                https://i.redd.it/qa6pg67cpncb1.jpg        198   \n",
       "3  https://www.reddit.com/r/starbucks/comments/15...        134   \n",
       "4                https://i.redd.it/brul17ewbebb1.jpg         98   \n",
       "\n",
       "               created                                               body   \n",
       "0  2023-08-22 12:47:54  I requested a day off 3 months in advance so I...  \\\n",
       "1  2023-07-19 18:23:58     His name is Finnegan, and he's back home now 💖   \n",
       "2  2023-07-18 05:07:43  My NEW DM (how are you gonna just start at my ...   \n",
       "3  2023-07-16 19:15:38  My coworker wears a mask each shift because th...   \n",
       "4  2023-07-11 20:32:09  Hey everyone! I’m an artist and ex-Starbucks b...   \n",
       "\n",
       "                 author  subreddit created_date created_time  \n",
       "0            colonade17  starbucks   2023-08-22     12:47:54  \n",
       "1       SuperVanessa007  starbucks   2023-07-19     18:23:58  \n",
       "2  Successful_Climate24  starbucks   2023-07-18     05:07:43  \n",
       "3       InvincibleSugar  starbucks   2023-07-16     19:15:38  \n",
       "4                JOV_97  starbucks   2023-07-11     20:32:09  "
      ]
     },
     "execution_count": 6,
     "metadata": {},
     "output_type": "execute_result"
    }
   ],
   "source": [
    "df.head()"
   ]
  },
  {
   "cell_type": "markdown",
   "id": "c386f26a",
   "metadata": {},
   "source": [
    "### Data Cleaning and Preprocessing"
   ]
  },
  {
   "cell_type": "code",
   "execution_count": 7,
   "id": "dbf37dfb",
   "metadata": {},
   "outputs": [],
   "source": [
    "# Assuming 'created' contains Unix timestamps (seconds since epoch)\n",
    "df['created_date'] = pd.to_datetime(df['created_date'])"
   ]
  },
  {
   "cell_type": "markdown",
   "id": "86f47d16",
   "metadata": {},
   "source": [
    "### Remove Unnecessary Columns"
   ]
  },
  {
   "cell_type": "code",
   "execution_count": 8,
   "id": "aa2fde07",
   "metadata": {},
   "outputs": [],
   "source": [
    "df = df.drop(['title', 'post_id', 'url', 'comms_num', 'created', 'body','author', 'subreddit', 'created_time'], axis=1)"
   ]
  },
  {
   "cell_type": "code",
   "execution_count": 9,
   "id": "8a4cb453",
   "metadata": {},
   "outputs": [
    {
     "data": {
      "text/html": [
       "<div>\n",
       "<style scoped>\n",
       "    .dataframe tbody tr th:only-of-type {\n",
       "        vertical-align: middle;\n",
       "    }\n",
       "\n",
       "    .dataframe tbody tr th {\n",
       "        vertical-align: top;\n",
       "    }\n",
       "\n",
       "    .dataframe thead th {\n",
       "        text-align: right;\n",
       "    }\n",
       "</style>\n",
       "<table border=\"1\" class=\"dataframe\">\n",
       "  <thead>\n",
       "    <tr style=\"text-align: right;\">\n",
       "      <th></th>\n",
       "      <th>score</th>\n",
       "      <th>created_date</th>\n",
       "    </tr>\n",
       "  </thead>\n",
       "  <tbody>\n",
       "    <tr>\n",
       "      <th>0</th>\n",
       "      <td>2020</td>\n",
       "      <td>2023-08-22</td>\n",
       "    </tr>\n",
       "    <tr>\n",
       "      <th>1</th>\n",
       "      <td>1645</td>\n",
       "      <td>2023-07-19</td>\n",
       "    </tr>\n",
       "    <tr>\n",
       "      <th>2</th>\n",
       "      <td>1726</td>\n",
       "      <td>2023-07-18</td>\n",
       "    </tr>\n",
       "    <tr>\n",
       "      <th>3</th>\n",
       "      <td>1922</td>\n",
       "      <td>2023-07-16</td>\n",
       "    </tr>\n",
       "    <tr>\n",
       "      <th>4</th>\n",
       "      <td>1925</td>\n",
       "      <td>2023-07-11</td>\n",
       "    </tr>\n",
       "  </tbody>\n",
       "</table>\n",
       "</div>"
      ],
      "text/plain": [
       "   score created_date\n",
       "0   2020   2023-08-22\n",
       "1   1645   2023-07-19\n",
       "2   1726   2023-07-18\n",
       "3   1922   2023-07-16\n",
       "4   1925   2023-07-11"
      ]
     },
     "execution_count": 9,
     "metadata": {},
     "output_type": "execute_result"
    }
   ],
   "source": [
    "df.head()"
   ]
  },
  {
   "cell_type": "code",
   "execution_count": 10,
   "id": "820dcce3",
   "metadata": {},
   "outputs": [],
   "source": [
    "# Sort the data by the 'created' column and split it into training and testing sets.\n",
    "df.sort_values(by='created_date', inplace=True, ascending=False)"
   ]
  },
  {
   "cell_type": "code",
   "execution_count": 11,
   "id": "c211535f",
   "metadata": {},
   "outputs": [],
   "source": [
    "df.set_index('created_date', inplace=True)"
   ]
  },
  {
   "cell_type": "code",
   "execution_count": 12,
   "id": "733108e3",
   "metadata": {},
   "outputs": [
    {
     "data": {
      "text/html": [
       "<div>\n",
       "<style scoped>\n",
       "    .dataframe tbody tr th:only-of-type {\n",
       "        vertical-align: middle;\n",
       "    }\n",
       "\n",
       "    .dataframe tbody tr th {\n",
       "        vertical-align: top;\n",
       "    }\n",
       "\n",
       "    .dataframe thead th {\n",
       "        text-align: right;\n",
       "    }\n",
       "</style>\n",
       "<table border=\"1\" class=\"dataframe\">\n",
       "  <thead>\n",
       "    <tr style=\"text-align: right;\">\n",
       "      <th></th>\n",
       "      <th>score</th>\n",
       "    </tr>\n",
       "    <tr>\n",
       "      <th>created_date</th>\n",
       "      <th></th>\n",
       "    </tr>\n",
       "  </thead>\n",
       "  <tbody>\n",
       "    <tr>\n",
       "      <th>2023-08-22</th>\n",
       "      <td>2020</td>\n",
       "    </tr>\n",
       "    <tr>\n",
       "      <th>2023-07-19</th>\n",
       "      <td>1645</td>\n",
       "    </tr>\n",
       "    <tr>\n",
       "      <th>2023-07-18</th>\n",
       "      <td>1726</td>\n",
       "    </tr>\n",
       "    <tr>\n",
       "      <th>2023-07-16</th>\n",
       "      <td>1922</td>\n",
       "    </tr>\n",
       "    <tr>\n",
       "      <th>2023-07-11</th>\n",
       "      <td>1925</td>\n",
       "    </tr>\n",
       "    <tr>\n",
       "      <th>...</th>\n",
       "      <td>...</td>\n",
       "    </tr>\n",
       "    <tr>\n",
       "      <th>2018-04-18</th>\n",
       "      <td>1673</td>\n",
       "    </tr>\n",
       "    <tr>\n",
       "      <th>2018-04-17</th>\n",
       "      <td>2043</td>\n",
       "    </tr>\n",
       "    <tr>\n",
       "      <th>2017-10-08</th>\n",
       "      <td>3798</td>\n",
       "    </tr>\n",
       "    <tr>\n",
       "      <th>2017-03-09</th>\n",
       "      <td>3004</td>\n",
       "    </tr>\n",
       "    <tr>\n",
       "      <th>2015-08-12</th>\n",
       "      <td>6941</td>\n",
       "    </tr>\n",
       "  </tbody>\n",
       "</table>\n",
       "<p>997 rows × 1 columns</p>\n",
       "</div>"
      ],
      "text/plain": [
       "              score\n",
       "created_date       \n",
       "2023-08-22     2020\n",
       "2023-07-19     1645\n",
       "2023-07-18     1726\n",
       "2023-07-16     1922\n",
       "2023-07-11     1925\n",
       "...             ...\n",
       "2018-04-18     1673\n",
       "2018-04-17     2043\n",
       "2017-10-08     3798\n",
       "2017-03-09     3004\n",
       "2015-08-12     6941\n",
       "\n",
       "[997 rows x 1 columns]"
      ]
     },
     "execution_count": 12,
     "metadata": {},
     "output_type": "execute_result"
    }
   ],
   "source": [
    "df"
   ]
  },
  {
   "cell_type": "code",
   "execution_count": 13,
   "id": "6357df9a",
   "metadata": {},
   "outputs": [],
   "source": [
    "# Split the data into training and testing sets with test_set containing the newest data\n",
    "train_set, test_set = df[int(len(df) * 0.2):], df[:int(len(df) * 0.2)]"
   ]
  },
  {
   "cell_type": "markdown",
   "id": "642492c7",
   "metadata": {},
   "source": [
    "### Model Training:"
   ]
  },
  {
   "cell_type": "code",
   "execution_count": 14,
   "id": "1620d74a",
   "metadata": {},
   "outputs": [],
   "source": [
    "# Define the order of the ARIMA model (p, d, q)\n",
    "p = 1  # Autoregressive order\n",
    "d = 1  # Differencing order (to make the series stationary)\n",
    "q = 1  # Moving average order"
   ]
  },
  {
   "cell_type": "code",
   "execution_count": 15,
   "id": "8e7cbb8e",
   "metadata": {},
   "outputs": [
    {
     "name": "stderr",
     "output_type": "stream",
     "text": [
      "/usr/local/lib/python3.11/site-packages/statsmodels/tsa/base/tsa_model.py:473: ValueWarning: A date index has been provided, but it has no associated frequency information and so will be ignored when e.g. forecasting.\n",
      "  self._init_dates(dates, freq)\n",
      "/usr/local/lib/python3.11/site-packages/statsmodels/tsa/base/tsa_model.py:473: ValueWarning: A date index has been provided, but it is not monotonic and so will be ignored when e.g. forecasting.\n",
      "  self._init_dates(dates, freq)\n",
      "/usr/local/lib/python3.11/site-packages/statsmodels/tsa/base/tsa_model.py:473: ValueWarning: A date index has been provided, but it has no associated frequency information and so will be ignored when e.g. forecasting.\n",
      "  self._init_dates(dates, freq)\n",
      "/usr/local/lib/python3.11/site-packages/statsmodels/tsa/base/tsa_model.py:473: ValueWarning: A date index has been provided, but it is not monotonic and so will be ignored when e.g. forecasting.\n",
      "  self._init_dates(dates, freq)\n",
      "/usr/local/lib/python3.11/site-packages/statsmodels/tsa/base/tsa_model.py:473: ValueWarning: A date index has been provided, but it has no associated frequency information and so will be ignored when e.g. forecasting.\n",
      "  self._init_dates(dates, freq)\n",
      "/usr/local/lib/python3.11/site-packages/statsmodels/tsa/base/tsa_model.py:473: ValueWarning: A date index has been provided, but it is not monotonic and so will be ignored when e.g. forecasting.\n",
      "  self._init_dates(dates, freq)\n"
     ]
    }
   ],
   "source": [
    "# Create the ARIMA model using the 'score' column\n",
    "arima_model = sm.tsa.ARIMA(train_set['score'], order=(p, d, q))"
   ]
  },
  {
   "cell_type": "code",
   "execution_count": 16,
   "id": "41d7b8c9",
   "metadata": {},
   "outputs": [],
   "source": [
    "# Fit the ARIMA model to your training data\n",
    "arima_model_fit = arima_model.fit()"
   ]
  },
  {
   "cell_type": "code",
   "execution_count": 17,
   "id": "f43ee7ef",
   "metadata": {},
   "outputs": [
    {
     "name": "stdout",
     "output_type": "stream",
     "text": [
      "                               SARIMAX Results                                \n",
      "==============================================================================\n",
      "Dep. Variable:                  score   No. Observations:                  798\n",
      "Model:                 ARIMA(1, 1, 1)   Log Likelihood               -6416.174\n",
      "Date:                Fri, 06 Oct 2023   AIC                          12838.348\n",
      "Time:                        11:15:49   BIC                          12852.390\n",
      "Sample:                             0   HQIC                         12843.743\n",
      "                                - 798                                         \n",
      "Covariance Type:                  opg                                         \n",
      "==============================================================================\n",
      "                 coef    std err          z      P>|z|      [0.025      0.975]\n",
      "------------------------------------------------------------------------------\n",
      "ar.L1          0.0966      0.022      4.375      0.000       0.053       0.140\n",
      "ma.L1         -0.9930      0.008   -130.070      0.000      -1.008      -0.978\n",
      "sigma2       5.72e+05   1.51e+04     37.850      0.000    5.42e+05    6.02e+05\n",
      "===================================================================================\n",
      "Ljung-Box (L1) (Q):                   0.00   Jarque-Bera (JB):              9351.12\n",
      "Prob(Q):                              0.95   Prob(JB):                         0.00\n",
      "Heteroskedasticity (H):               0.35   Skew:                             3.18\n",
      "Prob(H) (two-sided):                  0.00   Kurtosis:                        18.53\n",
      "===================================================================================\n",
      "\n",
      "Warnings:\n",
      "[1] Covariance matrix calculated using the outer product of gradients (complex-step).\n"
     ]
    }
   ],
   "source": [
    "# Print the summary of the model (optional)\n",
    "print(arima_model_fit.summary())"
   ]
  },
  {
   "cell_type": "markdown",
   "id": "62125ba5",
   "metadata": {},
   "source": [
    "###  Model Evaluation:"
   ]
  },
  {
   "cell_type": "markdown",
   "id": "7ee987ea",
   "metadata": {},
   "source": [
    "#### Evaluate the performance of your ARIMA model on the testing set. Common evaluation metrics include Mean Absolute Error (MAE), Mean Squared Error (MSE), and Root Mean Squared Error (RMSE)."
   ]
  },
  {
   "cell_type": "code",
   "execution_count": 18,
   "id": "49476533",
   "metadata": {},
   "outputs": [],
   "source": [
    "# Make predictions on the testing data\n",
    "predictions = arima_model_fit.predict(start=0, end=len(test_set) - 1, typ='levels')"
   ]
  },
  {
   "cell_type": "code",
   "execution_count": 19,
   "id": "4e2955e8",
   "metadata": {},
   "outputs": [
    {
     "ename": "NameError",
     "evalue": "name 'mean_absolute_error' is not defined",
     "output_type": "error",
     "traceback": [
      "\u001b[0;31m---------------------------------------------------------------------------\u001b[0m",
      "\u001b[0;31mNameError\u001b[0m                                 Traceback (most recent call last)",
      "Cell \u001b[0;32mIn[19], line 2\u001b[0m\n\u001b[1;32m      1\u001b[0m \u001b[38;5;66;03m# Calculate evaluation metrics\u001b[39;00m\n\u001b[0;32m----> 2\u001b[0m mae \u001b[38;5;241m=\u001b[39m \u001b[43mmean_absolute_error\u001b[49m(test_set, predictions)\n\u001b[1;32m      3\u001b[0m mse \u001b[38;5;241m=\u001b[39m mean_squared_error(test_set, predictions)\n\u001b[1;32m      4\u001b[0m rmse \u001b[38;5;241m=\u001b[39m np\u001b[38;5;241m.\u001b[39msqrt(mse)\n",
      "\u001b[0;31mNameError\u001b[0m: name 'mean_absolute_error' is not defined"
     ]
    }
   ],
   "source": [
    "# Calculate evaluation metrics\n",
    "mae = mean_absolute_error(test_set, predictions)\n",
    "mse = mean_squared_error(test_set, predictions)\n",
    "rmse = np.sqrt(mse)"
   ]
  },
  {
   "cell_type": "markdown",
   "id": "655753d7",
   "metadata": {},
   "source": [
    "### Forecasting:"
   ]
  },
  {
   "cell_type": "code",
   "execution_count": 20,
   "id": "226e1066",
   "metadata": {},
   "outputs": [],
   "source": [
    "# Define the number of periods you want to forecast (e.g., one week)\n",
    "forecast_periods = 7  # Adjust as needed"
   ]
  },
  {
   "cell_type": "code",
   "execution_count": 21,
   "id": "f60cb985",
   "metadata": {},
   "outputs": [
    {
     "name": "stderr",
     "output_type": "stream",
     "text": [
      "/usr/local/lib/python3.11/site-packages/statsmodels/tsa/base/tsa_model.py:836: ValueWarning: No supported index is available. Prediction results will be given with an integer index beginning at `start`.\n",
      "  return get_prediction_index(\n",
      "/usr/local/lib/python3.11/site-packages/statsmodels/tsa/base/tsa_model.py:836: FutureWarning: No supported index is available. In the next version, calling this method in a model without a supported index will result in an exception.\n",
      "  return get_prediction_index(\n"
     ]
    }
   ],
   "source": [
    "# Use the trained ARIMA model to make forecasts\n",
    "forecast = arima_model_fit.forecast(steps=forecast_periods)"
   ]
  },
  {
   "cell_type": "code",
   "execution_count": 22,
   "id": "a23eb6ec",
   "metadata": {},
   "outputs": [],
   "source": [
    "last_date = df.index[0]"
   ]
  },
  {
   "cell_type": "code",
   "execution_count": 23,
   "id": "a60e23ac",
   "metadata": {},
   "outputs": [
    {
     "data": {
      "text/plain": [
       "Timestamp('2023-08-22 00:00:00')"
      ]
     },
     "execution_count": 23,
     "metadata": {},
     "output_type": "execute_result"
    }
   ],
   "source": [
    "last_date"
   ]
  },
  {
   "cell_type": "code",
   "execution_count": 24,
   "id": "11355eac",
   "metadata": {},
   "outputs": [],
   "source": [
    "last_date = pd.to_datetime(last_date)  # Assuming 'last_date' is a string"
   ]
  },
  {
   "cell_type": "code",
   "execution_count": 25,
   "id": "5c983af0",
   "metadata": {},
   "outputs": [],
   "source": [
    "forecast_dates = pd.date_range(start=last_date + pd.DateOffset(1), periods=forecast_periods)"
   ]
  },
  {
   "cell_type": "code",
   "execution_count": 26,
   "id": "7066595f",
   "metadata": {},
   "outputs": [],
   "source": [
    "# Create a DataFrame to store the forecasted values and dates\n",
    "forecast_df = pd.DataFrame({'Date': forecast_dates, 'Forecast': forecast})"
   ]
  },
  {
   "cell_type": "code",
   "execution_count": 27,
   "id": "397762b4",
   "metadata": {},
   "outputs": [
    {
     "name": "stdout",
     "output_type": "stream",
     "text": [
      "          Date     Forecast\n",
      "798 2023-08-23  2581.913387\n",
      "799 2023-08-24  2160.958289\n",
      "800 2023-08-25  2120.306838\n",
      "801 2023-08-26  2116.381145\n",
      "802 2023-08-27  2116.002043\n",
      "803 2023-08-28  2115.965433\n",
      "804 2023-08-29  2115.961898\n"
     ]
    }
   ],
   "source": [
    "# Print the forecasted values for the next week\n",
    "print(forecast_df)"
   ]
  },
  {
   "cell_type": "code",
   "execution_count": 28,
   "id": "bbf20334",
   "metadata": {},
   "outputs": [],
   "source": [
    "# Specify the file path where you want to save the model\n",
    "model_save_path = 'arima_reddit_like_model.pkl'"
   ]
  },
  {
   "cell_type": "code",
   "execution_count": 29,
   "id": "86f139a9",
   "metadata": {},
   "outputs": [],
   "source": [
    "# Save the ARIMA model to the specified file\n",
    "arima_model_fit.save(model_save_path)"
   ]
  },
  {
   "cell_type": "markdown",
   "id": "31e4ca2a",
   "metadata": {},
   "source": [
    "#### Test ARIMA model"
   ]
  },
  {
   "cell_type": "code",
   "execution_count": 39,
   "id": "a995a081",
   "metadata": {},
   "outputs": [],
   "source": [
    "import pickle"
   ]
  },
  {
   "cell_type": "code",
   "execution_count": 40,
   "id": "c267ae5c",
   "metadata": {},
   "outputs": [],
   "source": [
    "with open(model_save_path, 'rb') as model_file:\n",
    "    arima_model_fit_1 = pickle.load(model_file)"
   ]
  },
  {
   "cell_type": "code",
   "execution_count": 48,
   "id": "3e1f4af9",
   "metadata": {},
   "outputs": [],
   "source": [
    "date = '2023-08-22'\n",
    "new_date = '2023-08-25'"
   ]
  },
  {
   "cell_type": "code",
   "execution_count": 53,
   "id": "1374ef98",
   "metadata": {},
   "outputs": [
    {
     "name": "stderr",
     "output_type": "stream",
     "text": [
      "/usr/local/lib/python3.11/site-packages/statsmodels/tsa/base/tsa_model.py:836: ValueWarning: No supported index is available. Prediction results will be given with an integer index beginning at `start`.\n",
      "  return get_prediction_index(\n"
     ]
    }
   ],
   "source": [
    "# Assuming you have new_data as your test data\n",
    "forecast = arima_model_fit_1.forecast(steps=7)"
   ]
  },
  {
   "cell_type": "code",
   "execution_count": 54,
   "id": "a1723f45",
   "metadata": {},
   "outputs": [
    {
     "name": "stdout",
     "output_type": "stream",
     "text": [
      "798    2581.913387\n",
      "799    2160.958289\n",
      "800    2120.306838\n",
      "801    2116.381145\n",
      "802    2116.002043\n",
      "803    2115.965433\n",
      "804    2115.961898\n",
      "Name: predicted_mean, dtype: float64\n"
     ]
    }
   ],
   "source": [
    "print(forecast)"
   ]
  },
  {
   "cell_type": "code",
   "execution_count": 55,
   "id": "27beeae0",
   "metadata": {},
   "outputs": [],
   "source": [
    "forecast_dates = pd.date_range(start=last_date + pd.DateOffset(1), periods=forecast_periods)\n",
    "\n",
    "# Extract only the date part\n",
    "forecast_dates = forecast_dates.date"
   ]
  },
  {
   "cell_type": "code",
   "execution_count": 65,
   "id": "25d7c402",
   "metadata": {},
   "outputs": [],
   "source": [
    "# Assuming forecast_dates is a NumPy array\n",
    "forecast_dates = pd.to_datetime(forecast_dates)"
   ]
  },
  {
   "cell_type": "code",
   "execution_count": 66,
   "id": "cae7ff86",
   "metadata": {},
   "outputs": [],
   "source": [
    "# Extract only the date part\n",
    "forecast_dates = forecast_dates.date"
   ]
  },
  {
   "cell_type": "code",
   "execution_count": 67,
   "id": "d5df45a5",
   "metadata": {},
   "outputs": [],
   "source": [
    "# Create a DataFrame to store the forecasted values and dates\n",
    "forecast_df = pd.DataFrame({'Date': forecast_dates, 'Forecast': forecast})"
   ]
  },
  {
   "cell_type": "code",
   "execution_count": 68,
   "id": "91179855",
   "metadata": {},
   "outputs": [],
   "source": [
    "# Convert the DataFrame to the desired format\n",
    "data = []\n",
    "for index, row in forecast_df.iterrows():\n",
    "    data_point = {\"x\": str(row['Date']), \"y\": round(row['Forecast'])}\n",
    "    data.append(data_point)\n",
    "\n",
    "forecast_data = [\n",
    "    {\n",
    "        \"id\": \"likes\",\n",
    "        \"color\": \"hsl(99, 70%, 50%)\",\n",
    "        \"data\": data\n",
    "    }\n",
    "]"
   ]
  },
  {
   "cell_type": "code",
   "execution_count": 69,
   "id": "71e40cdf",
   "metadata": {},
   "outputs": [
    {
     "name": "stdout",
     "output_type": "stream",
     "text": [
      "[{'id': 'likes', 'color': 'hsl(99, 70%, 50%)', 'data': [{'x': '2023-08-23', 'y': 2582}, {'x': '2023-08-24', 'y': 2161}, {'x': '2023-08-25', 'y': 2120}, {'x': '2023-08-26', 'y': 2116}, {'x': '2023-08-27', 'y': 2116}, {'x': '2023-08-28', 'y': 2116}, {'x': '2023-08-29', 'y': 2116}]}]\n"
     ]
    }
   ],
   "source": [
    "print(forecast_data)"
   ]
  },
  {
   "cell_type": "code",
   "execution_count": null,
   "id": "1e9dd7be",
   "metadata": {},
   "outputs": [],
   "source": []
  }
 ],
 "metadata": {
  "kernelspec": {
   "display_name": "Python 3 (ipykernel)",
   "language": "python",
   "name": "python3"
  },
  "language_info": {
   "codemirror_mode": {
    "name": "ipython",
    "version": 3
   },
   "file_extension": ".py",
   "mimetype": "text/x-python",
   "name": "python",
   "nbconvert_exporter": "python",
   "pygments_lexer": "ipython3",
   "version": "3.11.2"
  }
 },
 "nbformat": 4,
 "nbformat_minor": 5
}
