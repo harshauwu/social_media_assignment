{
 "cells": [
  {
   "cell_type": "markdown",
   "id": "c4b03778",
   "metadata": {},
   "source": [
    "### Load the Dataset:"
   ]
  },
  {
   "cell_type": "code",
   "execution_count": 1,
   "id": "d8e162e4",
   "metadata": {},
   "outputs": [],
   "source": [
    "import pandas as pd"
   ]
  },
  {
   "cell_type": "code",
   "execution_count": 2,
   "id": "b3f0c2b9",
   "metadata": {},
   "outputs": [],
   "source": [
    "dataset_file = \"soc-Epinions1.txt\""
   ]
  },
  {
   "cell_type": "code",
   "execution_count": 3,
   "id": "d6af0f8e",
   "metadata": {},
   "outputs": [],
   "source": [
    "# Read the dataset file into a Pandas DataFrame, skipping comment lines\n",
    "df = pd.read_csv(dataset_file, sep='\\t', comment='#', header=None, names=['FromNodeId', 'ToNodeId'])"
   ]
  },
  {
   "cell_type": "code",
   "execution_count": 4,
   "id": "a805e887",
   "metadata": {},
   "outputs": [
    {
     "name": "stdout",
     "output_type": "stream",
     "text": [
      "   FromNodeId  ToNodeId\n",
      "0           0         4\n",
      "1           0         5\n",
      "2           0         7\n",
      "3           0         8\n",
      "4           0         9\n"
     ]
    }
   ],
   "source": [
    "# Display the first few rows of the DataFrame to verify the data\n",
    "print(df.head())"
   ]
  },
  {
   "cell_type": "code",
   "execution_count": 5,
   "id": "68551037",
   "metadata": {},
   "outputs": [
    {
     "name": "stdout",
     "output_type": "stream",
     "text": [
      "        FromNodeId  ToNodeId\n",
      "508832       75884      1699\n",
      "508833       75885      7900\n",
      "508834       75885     16086\n",
      "508835       75886     51414\n",
      "508836       75887     52098\n"
     ]
    }
   ],
   "source": [
    "print(df.tail())"
   ]
  },
  {
   "cell_type": "code",
   "execution_count": 6,
   "id": "64deccae",
   "metadata": {},
   "outputs": [],
   "source": [
    "import networkx as nx"
   ]
  },
  {
   "cell_type": "code",
   "execution_count": 7,
   "id": "45a5c84a",
   "metadata": {},
   "outputs": [],
   "source": [
    "# Create an empty directed graph\n",
    "G = nx.DiGraph()"
   ]
  },
  {
   "cell_type": "code",
   "execution_count": 8,
   "id": "78f98aba",
   "metadata": {},
   "outputs": [],
   "source": [
    "# Add edges from the Pandas DataFrame\n",
    "for index, row in df.iterrows():\n",
    "    from_node = row['FromNodeId']\n",
    "    to_node = row['ToNodeId']\n",
    "    G.add_edge(from_node, to_node)"
   ]
  },
  {
   "cell_type": "markdown",
   "id": "b81291d3",
   "metadata": {},
   "source": [
    "#### Calculate Node Degrees:"
   ]
  },
  {
   "cell_type": "code",
   "execution_count": 9,
   "id": "a5a8851b",
   "metadata": {},
   "outputs": [],
   "source": [
    "# Calculate in-degrees and out-degrees of nodes\n",
    "in_degrees = dict(G.in_degree())\n",
    "out_degrees = dict(G.out_degree())"
   ]
  },
  {
   "cell_type": "code",
   "execution_count": 10,
   "id": "82fc5eb0",
   "metadata": {},
   "outputs": [
    {
     "name": "stdout",
     "output_type": "stream",
     "text": [
      "In-degree of node 0: 636\n",
      "Out-degree of node 0: 139\n"
     ]
    }
   ],
   "source": [
    "print(\"In-degree of node 0:\", in_degrees.get(0, 0))\n",
    "print(\"Out-degree of node 0:\", out_degrees.get(0, 0))"
   ]
  },
  {
   "cell_type": "markdown",
   "id": "921255b2",
   "metadata": {},
   "source": [
    "#### CELF (Cost-Effective Lazy Forward) Algorithm:"
   ]
  },
  {
   "cell_type": "markdown",
   "id": "81caeb44",
   "metadata": {},
   "source": [
    "#### Define Seed Set Sizes (k):"
   ]
  },
  {
   "cell_type": "code",
   "execution_count": 11,
   "id": "8bb0e804",
   "metadata": {},
   "outputs": [],
   "source": [
    "# Define a range of seed set sizes (k values)\n",
    "seed_set_sizes = [10, 20, 30, 40, 50, 60]"
   ]
  },
  {
   "cell_type": "markdown",
   "id": "3437c8a5",
   "metadata": {},
   "source": [
    "#### Implement CELF and CELF++ Algorithms:"
   ]
  },
  {
   "cell_type": "code",
   "execution_count": 12,
   "id": "0d9e1a04",
   "metadata": {},
   "outputs": [],
   "source": [
    "# Define your CELF algorithm here\n",
    "def celf_algorithm(graph, k):\n",
    "    seed_set = set()\n",
    "    marginal_gains = {}\n",
    "\n",
    "    for i in range(k):\n",
    "        max_node = None\n",
    "        max_gain = 0.0\n",
    "\n",
    "        for node in graph.nodes():\n",
    "            if node not in seed_set:\n",
    "                temp_seed_set = seed_set.union({node})\n",
    "                current_influence = calculate_influence(graph, temp_seed_set)\n",
    "\n",
    "                if current_influence is not None and current_influence > max_gain:\n",
    "                    max_gain = current_influence\n",
    "                    max_node = node\n",
    "\n",
    "        if max_node is not None:\n",
    "            seed_set.add(max_node)\n",
    "            marginal_gains[max_node] = max_gain\n",
    "\n",
    "    return seed_set\n",
    "\n",
    "def calculate_influence(graph, seed_set):\n",
    "    # Implement influence propagation simulation (e.g., IC or LT model)\n",
    "    # Return the total influence achieved by the seed set\n",
    "    pass\n"
   ]
  },
  {
   "cell_type": "code",
   "execution_count": 13,
   "id": "15d48551",
   "metadata": {},
   "outputs": [],
   "source": [
    "# Define your CELF++ algorithm here\n",
    "def celf_plusplus_algorithm(graph, k):\n",
    "    seed_set = set()\n",
    "    marginal_gains = {}\n",
    "\n",
    "    for i in range(k):\n",
    "        max_node = None\n",
    "        max_gain = 0.0\n",
    "\n",
    "        for node in graph.nodes():\n",
    "            if node not in seed_set:\n",
    "                temp_seed_set = seed_set.union({node})\n",
    "                current_gain = calculate_marginal_gain(graph, temp_seed_set, marginal_gains)\n",
    "\n",
    "                if current_gain is not None and current_gain > max_gain:\n",
    "                    max_gain = current_gain\n",
    "                    max_node = node\n",
    "\n",
    "        if max_node is not None:\n",
    "            seed_set.add(max_node)\n",
    "            marginal_gains[max_node] = max_gain\n",
    "\n",
    "    return seed_set\n",
    "\n",
    "def calculate_marginal_gain(graph, seed_set, marginal_gains):\n",
    "    max_node = None\n",
    "    max_gain = 0.0\n",
    "\n",
    "    for node in seed_set:\n",
    "        temp_seed_set = seed_set.difference({node})\n",
    "        if node in marginal_gains:\n",
    "            current_gain = marginal_gains[node]\n",
    "        else:\n",
    "            current_gain = calculate_influence(graph, temp_seed_set)\n",
    "            marginal_gains[node] = current_gain\n",
    "\n",
    "        if current_gain is not None and current_gain > max_gain:\n",
    "            max_gain = current_gain\n",
    "            max_node = node\n",
    "\n",
    "    return max_gain if max_node is not None else 0.0  # Return 0.0 if max_node is None\n"
   ]
  },
  {
   "cell_type": "markdown",
   "id": "a5153b37",
   "metadata": {},
   "source": [
    "#### Measure Runtimes:"
   ]
  },
  {
   "cell_type": "code",
   "execution_count": 14,
   "id": "ca5fb692",
   "metadata": {},
   "outputs": [],
   "source": [
    "import time\n",
    "import matplotlib.pyplot as plt"
   ]
  },
  {
   "cell_type": "code",
   "execution_count": 15,
   "id": "9438c87e",
   "metadata": {},
   "outputs": [],
   "source": [
    "# Dictionary to store runtimes for CELF and CELF++ for each seed set size\n",
    "runtime_data = {\"CELF\": [], \"CELF++\": []}"
   ]
  },
  {
   "cell_type": "code",
   "execution_count": 16,
   "id": "21f1aaff",
   "metadata": {},
   "outputs": [],
   "source": [
    "# Perform experiments for each seed set size\n",
    "for k in seed_set_sizes:\n",
    "    # Measure runtime for CELF\n",
    "    start_time = time.time()\n",
    "    celf_seed_set = celf_algorithm(G.copy(), k)  # Replace with your CELF implementation\n",
    "    end_time = time.time()\n",
    "    celf_runtime = end_time - start_time\n",
    "    runtime_data[\"CELF\"].append(celf_runtime)\n",
    "\n",
    "    # Measure runtime for CELF++\n",
    "    start_time = time.time()\n",
    "    celf_plusplus_seed_set = celf_plusplus_algorithm(G.copy(), k)  # Replace with your CELF++ implementation\n",
    "    end_time = time.time()\n",
    "    celf_plusplus_runtime = end_time - start_time\n",
    "    runtime_data[\"CELF++\"].append(celf_plusplus_runtime)"
   ]
  },
  {
   "cell_type": "code",
   "execution_count": 17,
   "id": "7a6caa2d",
   "metadata": {},
   "outputs": [
    {
     "data": {
      "image/png": "[encoded data removed]",
      "text/plain": [
       "<Figure size 640x480 with 1 Axes>"
      ]
     },
     "metadata": {},
     "output_type": "display_data"
    }
   ],
   "source": [
    "# Create separate plots for CELF and CELF++\n",
    "for algorithm, runtimes in runtime_data.items():\n",
    "    plt.plot(seed_set_sizes, runtimes, marker='o', label=algorithm)\n",
    "\n",
    "plt.xlabel('Seed Set Size (k)')\n",
    "plt.ylabel('Runtime (seconds)')\n",
    "plt.title('Runtime vs. Seed Set Size for CELF and CELF++')\n",
    "plt.legend()\n",
    "plt.grid(True)\n",
    "plt.show()"
   ]
  },
  {
   "cell_type": "markdown",
   "id": "f628eec4",
   "metadata": {},
   "source": [
    "### Influence spread"
   ]
  },
  {
   "cell_type": "code",
   "execution_count": null,
   "id": "55e53f35",
   "metadata": {},
   "outputs": [],
   "source": []
  }
 ],
 "metadata": {
  "kernelspec": {
   "display_name": "Python 3 (ipykernel)",
   "language": "python",
   "name": "python3"
  },
  "language_info": {
   "codemirror_mode": {
    "name": "ipython",
    "version": 3
   },
   "file_extension": ".py",
   "mimetype": "text/x-python",
   "name": "python",
   "nbconvert_exporter": "python",
   "pygments_lexer": "ipython3",
   "version": "3.11.2"
  }
 },
 "nbformat": 4,
 "nbformat_minor": 5
}
