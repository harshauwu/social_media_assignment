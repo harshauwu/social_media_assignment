{
 "cells": [
  {
   "cell_type": "markdown",
   "id": "b42c74a2",
   "metadata": {},
   "source": [
    "## Influence maximization using greedy algorithm\n"
   ]
  },
  {
   "cell_type": "code",
   "execution_count": null,
   "id": "7a3632f4",
   "metadata": {},
   "outputs": [],
   "source": [
    "import pandas as pd"
   ]
  },
  {
   "cell_type": "code",
   "execution_count": null,
   "id": "5d050826",
   "metadata": {},
   "outputs": [],
   "source": [
    "# Load Facebook data from CSV file\n",
    "df = pd.read_csv('pseudo_facebook.csv')"
   ]
  },
  {
   "cell_type": "code",
   "execution_count": null,
   "id": "476162e5",
   "metadata": {},
   "outputs": [],
   "source": [
    "# Display the first few rows of the DataFrame\n",
    "print(df.head())"
   ]
  },
  {
   "cell_type": "markdown",
   "id": "654339ca",
   "metadata": {},
   "source": [
    "#### Data Exploration:"
   ]
  },
  {
   "cell_type": "code",
   "execution_count": null,
   "id": "d0f5661c",
   "metadata": {},
   "outputs": [],
   "source": [
    "print(df.describe())"
   ]
  },
  {
   "cell_type": "code",
   "execution_count": null,
   "id": "c1a8af6e",
   "metadata": {},
   "outputs": [],
   "source": [
    "print(df.dtypes)"
   ]
  },
  {
   "cell_type": "code",
   "execution_count": null,
   "id": "36752bf7",
   "metadata": {},
   "outputs": [],
   "source": [
    "print(df.columns)"
   ]
  },
  {
   "cell_type": "code",
   "execution_count": null,
   "id": "597582e3",
   "metadata": {},
   "outputs": [],
   "source": [
    "# List of columns to retain\n",
    "columns_to_retain = ['userid', 'age', 'gender', 'friend_count', 'friendships_initiated', 'likes', 'likes_received']"
   ]
  },
  {
   "cell_type": "code",
   "execution_count": null,
   "id": "f90c4987",
   "metadata": {},
   "outputs": [],
   "source": [
    "# Filter the DataFrame to retain only the specified columns\n",
    "df = df[columns_to_retain]"
   ]
  },
  {
   "cell_type": "code",
   "execution_count": null,
   "id": "16be9939",
   "metadata": {},
   "outputs": [],
   "source": [
    "print(df.head())"
   ]
  },
  {
   "cell_type": "markdown",
   "id": "03ecd94d",
   "metadata": {},
   "source": [
    "#### Handling Missing Data:"
   ]
  },
  {
   "cell_type": "markdown",
   "id": "42b77c6e",
   "metadata": {},
   "source": [
    "##### Identify Missing Data:"
   ]
  },
  {
   "cell_type": "code",
   "execution_count": null,
   "id": "25525574",
   "metadata": {},
   "outputs": [],
   "source": [
    "# Check for missing values in each column\n",
    "missing_values = df.isnull().sum()\n",
    "print(missing_values)"
   ]
  },
  {
   "cell_type": "code",
   "execution_count": null,
   "id": "d720f868",
   "metadata": {},
   "outputs": [],
   "source": [
    "# Create a boolean mask for rows with missing values in the 'gender' column\n",
    "missing_gender_rows = df[df['gender'].isnull()]\n",
    "\n",
    "# Print the rows with missing values in the 'gender' column\n",
    "print(\"Rows with missing 'gender' values:\")\n",
    "print(missing_gender_rows)"
   ]
  },
  {
   "cell_type": "code",
   "execution_count": null,
   "id": "8f392b8c",
   "metadata": {},
   "outputs": [],
   "source": [
    "df"
   ]
  },
  {
   "cell_type": "markdown",
   "id": "38ee2f15",
   "metadata": {},
   "source": [
    "##### Remove Rows with Missing Data:"
   ]
  },
  {
   "cell_type": "code",
   "execution_count": null,
   "id": "2382aefe",
   "metadata": {},
   "outputs": [],
   "source": [
    "# Remove rows with missing values in the 'gender' column\n",
    "df = df.dropna(subset=['gender'])"
   ]
  },
  {
   "cell_type": "code",
   "execution_count": null,
   "id": "39ca458a",
   "metadata": {},
   "outputs": [],
   "source": [
    "# Reset the index of the cleaned DataFrame\n",
    "df.reset_index(drop=True, inplace=True)"
   ]
  },
  {
   "cell_type": "code",
   "execution_count": null,
   "id": "dd1d716e",
   "metadata": {},
   "outputs": [],
   "source": [
    "df"
   ]
  },
  {
   "cell_type": "code",
   "execution_count": null,
   "id": "62b6aa0e",
   "metadata": {},
   "outputs": [],
   "source": [
    "import networkx as nx\n",
    "import matplotlib.pyplot as plt"
   ]
  },
  {
   "cell_type": "code",
   "execution_count": null,
   "id": "838c1017",
   "metadata": {},
   "outputs": [],
   "source": [
    "G = nx.Graph()"
   ]
  },
  {
   "cell_type": "markdown",
   "id": "830119bf",
   "metadata": {},
   "source": [
    "#### Add Nodes to the Graph:"
   ]
  },
  {
   "cell_type": "code",
   "execution_count": null,
   "id": "d249b42d",
   "metadata": {},
   "outputs": [],
   "source": [
    "for index, row in df.iterrows():\n",
    "    user_id = row['userid']\n",
    "    age = row['age']\n",
    "    gender = row['gender']\n",
    "    G.add_node(user_id, age=age, gender=gender)"
   ]
  },
  {
   "cell_type": "markdown",
   "id": "b4b42730",
   "metadata": {},
   "source": [
    "#### Add Edges to the Graph:"
   ]
  },
  {
   "cell_type": "code",
   "execution_count": null,
   "id": "3e4277b2",
   "metadata": {},
   "outputs": [],
   "source": [
    "# for index, row in df.iterrows():\n",
    "#     user_id = row['userid']\n",
    "#     friend_count = row['friend_count']\n",
    "#     friendships_initiated = row['friendships_initiated']\n",
    "    \n",
    "#     # Create edges from the current user to a subset of their friends\n",
    "#     for i in range(friendships_initiated):\n",
    "#         friend_id = user_id + i + 1  # Assuming friend IDs are sequential\n",
    "#         if friend_id <= user_id + friend_count:\n",
    "#             G.add_edge(user_id, friend_id)\n"
   ]
  },
  {
   "cell_type": "markdown",
   "id": "da5398be",
   "metadata": {},
   "source": [
    "#### Visualize the Graph"
   ]
  },
  {
   "cell_type": "code",
   "execution_count": null,
   "id": "0d2c74d1",
   "metadata": {},
   "outputs": [],
   "source": [
    "# Draw the graph with node attributes 'age' and 'gender'\n",
    "pos = nx.spring_layout(G)  # Define node positions for visualization\n",
    "nx.draw(G, pos, node_color='lightblue', node_size=50, with_labels=False)\n",
    "labels = {node: f\"Age: {data['age']}, Gender: {data['gender']}\" for node, data in G.nodes(data=True)}\n",
    "nx.draw_networkx_labels(G, pos, labels, font_size=8, font_color='black')\n",
    "plt.show()\n"
   ]
  },
  {
   "cell_type": "code",
   "execution_count": null,
   "id": "ba0e84cd",
   "metadata": {},
   "outputs": [],
   "source": []
  }
 ],
 "metadata": {
  "kernelspec": {
   "display_name": "Python 3 (ipykernel)",
   "language": "python",
   "name": "python3"
  },
  "language_info": {
   "codemirror_mode": {
    "name": "ipython",
    "version": 3
   },
   "file_extension": ".py",
   "mimetype": "text/x-python",
   "name": "python",
   "nbconvert_exporter": "python",
   "pygments_lexer": "ipython3",
   "version": "3.11.2"
  }
 },
 "nbformat": 4,
 "nbformat_minor": 5
}
