{
 "cells": [
  {
   "cell_type": "code",
   "execution_count": 16,
   "id": "6004a1b2",
   "metadata": {},
   "outputs": [],
   "source": [
    "import networkx as nx\n",
    "import random\n",
    "import matplotlib.pyplot as plt"
   ]
  },
  {
   "cell_type": "code",
   "execution_count": 17,
   "id": "9793f1c7",
   "metadata": {},
   "outputs": [],
   "source": [
    "# Load the dataset\n",
    "G = nx.read_edgelist('soc-Epinions1.txt', create_using=nx.DiGraph())"
   ]
  },
  {
   "cell_type": "code",
   "execution_count": 18,
   "id": "a31c2ea2",
   "metadata": {},
   "outputs": [],
   "source": [
    "def simulate_independent_cascade(graph, seed_set):\n",
    "    # Implement the influence propagation simulation (IC model)\n",
    "    pass"
   ]
  },
  {
   "cell_type": "code",
   "execution_count": 19,
   "id": "155b6330",
   "metadata": {},
   "outputs": [],
   "source": [
    "def monte_carlo_simulation(G, seed_set, num_simulations):\n",
    "    total_influence = 0\n",
    "    for _ in range(num_simulations):\n",
    "        influence = simulate_influence(G, seed_set)\n",
    "        total_influence += influence\n",
    "    return total_influence / num_simulations\n",
    "\n",
    "# def simulate_influence(G, seed_set):\n",
    "    # Implement your influence propagation simulation here\n",
    "    # Return the total influence spread in this simulation\n"
   ]
  },
  {
   "cell_type": "code",
   "execution_count": 20,
   "id": "49c947c4",
   "metadata": {},
   "outputs": [],
   "source": [
    "def celf_algorithm(G, k):\n",
    "    seed_set = set()\n",
    "    priority_queue = []\n",
    "\n",
    "    for node in G.nodes():\n",
    "        marginal_gain = calculate_marginal_gain(G, seed_set, node)\n",
    "        priority_queue.append((node, marginal_gain))\n",
    "\n",
    "    priority_queue.sort(key=lambda x: x[1], reverse=True)\n",
    "\n",
    "    for _ in range(k):\n",
    "        while True:\n",
    "            node, marginal_gain = priority_queue.pop(0)\n",
    "            if node not in seed_set:\n",
    "                seed_set.add(node)\n",
    "                break\n",
    "\n",
    "            # Update marginal gains for the remaining nodes\n",
    "            for i in range(len(priority_queue)):\n",
    "                n, gain = priority_queue[i]\n",
    "                new_gain = calculate_marginal_gain(G, seed_set, n)\n",
    "                if new_gain > gain:\n",
    "                    priority_queue[i] = (n, new_gain)\n",
    "            priority_queue.sort(key=lambda x: x[1], reverse=True)\n",
    "\n",
    "    return seed_set\n",
    "\n",
    "def celf_plus_plus_algorithm(G, k):\n",
    "    seed_set = set()\n",
    "    priority_queue = []\n",
    "    top_nodes = []\n",
    "\n",
    "    # Initialize the priority queue with nodes sorted by their influence spread\n",
    "    for node in G.nodes():\n",
    "        marginal_gain = calculate_marginal_gain(G, seed_set, node)\n",
    "        priority_queue.append((node, marginal_gain))\n",
    "\n",
    "    # Sort the priority queue in descending order of marginal gain\n",
    "    priority_queue.sort(key=lambda x: x[1], reverse=True)\n",
    "\n",
    "    for _ in range(k):\n",
    "        if not top_nodes:\n",
    "            node, marginal_gain = priority_queue.pop(0)\n",
    "        else:\n",
    "            node, marginal_gain = top_nodes.pop()\n",
    "\n",
    "        seed_set.add(node)\n",
    "        # Update the priority queue for the remaining nodes\n",
    "        for i in range(len(priority_queue)):\n",
    "            n, gain = priority_queue[i]\n",
    "            new_gain = calculate_marginal_gain(G, seed_set, n)\n",
    "            if new_gain > gain:\n",
    "                priority_queue[i] = (n, new_gain)\n",
    "        priority_queue.sort(key=lambda x: x[1], reverse=True)\n",
    "        top_nodes = []\n",
    "\n",
    "    return seed_set\n",
    "\n",
    "# Define a function to calculate marginal gain based on your influence propagation model\n",
    "def calculate_marginal_gain(G, seed_set, node):\n",
    "    # Implement your marginal gain calculation here based on your influence model\n",
    "    # Return the marginal gain for adding 'node' to 'seed_set'\n",
    "    pass\n"
   ]
  },
  {
   "cell_type": "code",
   "execution_count": 21,
   "id": "8eaf9127",
   "metadata": {},
   "outputs": [
    {
     "ename": "TypeError",
     "evalue": "'<' not supported between instances of 'NoneType' and 'NoneType'",
     "output_type": "error",
     "traceback": [
      "\u001b[0;31m---------------------------------------------------------------------------\u001b[0m",
      "\u001b[0;31mTypeError\u001b[0m                                 Traceback (most recent call last)",
      "Cell \u001b[0;32mIn[21], line 9\u001b[0m\n\u001b[1;32m      5\u001b[0m influence_spread_celf_plus_plus \u001b[38;5;241m=\u001b[39m []\n\u001b[1;32m      7\u001b[0m \u001b[38;5;28;01mfor\u001b[39;00m k \u001b[38;5;129;01min\u001b[39;00m k_values:\n\u001b[1;32m      8\u001b[0m     \u001b[38;5;66;03m# Implement CELF and CELF++ algorithms to select k seeds\u001b[39;00m\n\u001b[0;32m----> 9\u001b[0m     seed_set_celf \u001b[38;5;241m=\u001b[39m \u001b[43mcelf_algorithm\u001b[49m\u001b[43m(\u001b[49m\u001b[43mG\u001b[49m\u001b[43m,\u001b[49m\u001b[43m \u001b[49m\u001b[43mk\u001b[49m\u001b[43m)\u001b[49m\n\u001b[1;32m     10\u001b[0m     seed_set_celf_plus_plus \u001b[38;5;241m=\u001b[39m celf_plus_plus_algorithm(G, k)\n\u001b[1;32m     12\u001b[0m     \u001b[38;5;66;03m# Calculate influence spread for the selected seed sets\u001b[39;00m\n",
      "Cell \u001b[0;32mIn[20], line 9\u001b[0m, in \u001b[0;36mcelf_algorithm\u001b[0;34m(G, k)\u001b[0m\n\u001b[1;32m      6\u001b[0m     marginal_gain \u001b[38;5;241m=\u001b[39m calculate_marginal_gain(G, seed_set, node)\n\u001b[1;32m      7\u001b[0m     priority_queue\u001b[38;5;241m.\u001b[39mappend((node, marginal_gain))\n\u001b[0;32m----> 9\u001b[0m \u001b[43mpriority_queue\u001b[49m\u001b[38;5;241;43m.\u001b[39;49m\u001b[43msort\u001b[49m\u001b[43m(\u001b[49m\u001b[43mkey\u001b[49m\u001b[38;5;241;43m=\u001b[39;49m\u001b[38;5;28;43;01mlambda\u001b[39;49;00m\u001b[43m \u001b[49m\u001b[43mx\u001b[49m\u001b[43m:\u001b[49m\u001b[43m \u001b[49m\u001b[43mx\u001b[49m\u001b[43m[\u001b[49m\u001b[38;5;241;43m1\u001b[39;49m\u001b[43m]\u001b[49m\u001b[43m,\u001b[49m\u001b[43m \u001b[49m\u001b[43mreverse\u001b[49m\u001b[38;5;241;43m=\u001b[39;49m\u001b[38;5;28;43;01mTrue\u001b[39;49;00m\u001b[43m)\u001b[49m\n\u001b[1;32m     11\u001b[0m \u001b[38;5;28;01mfor\u001b[39;00m _ \u001b[38;5;129;01min\u001b[39;00m \u001b[38;5;28mrange\u001b[39m(k):\n\u001b[1;32m     12\u001b[0m     \u001b[38;5;28;01mwhile\u001b[39;00m \u001b[38;5;28;01mTrue\u001b[39;00m:\n",
      "\u001b[0;31mTypeError\u001b[0m: '<' not supported between instances of 'NoneType' and 'NoneType'"
     ]
    }
   ],
   "source": [
    "# Run CELF and CELF++ for different k values and record influence spread\n",
    "k_values = [1, 2, 3, 4, 5]  # Example seed set sizes\n",
    "\n",
    "influence_spread_celf = []\n",
    "influence_spread_celf_plus_plus = []\n",
    "\n",
    "for k in k_values:\n",
    "    # Implement CELF and CELF++ algorithms to select k seeds\n",
    "    seed_set_celf = celf_algorithm(G, k)\n",
    "    seed_set_celf_plus_plus = celf_plus_plus_algorithm(G, k)\n",
    "\n",
    "    # Calculate influence spread for the selected seed sets\n",
    "    influence_celf = monte_carlo_simulation(G, seed_set_celf, num_simulations=1000)\n",
    "    influence_celf_plus_plus = monte_carlo_simulation(G, seed_set_celf_plus_plus, num_simulations=1000)\n",
    "\n",
    "    influence_spread_celf.append(influence_celf)\n",
    "    influence_spread_celf_plus_plus.append(influence_celf_plus_plus)\n"
   ]
  },
  {
   "cell_type": "code",
   "execution_count": null,
   "id": "c802d66d",
   "metadata": {},
   "outputs": [],
   "source": []
  }
 ],
 "metadata": {
  "kernelspec": {
   "display_name": "Python 3 (ipykernel)",
   "language": "python",
   "name": "python3"
  },
  "language_info": {
   "codemirror_mode": {
    "name": "ipython",
    "version": 3
   },
   "file_extension": ".py",
   "mimetype": "text/x-python",
   "name": "python",
   "nbconvert_exporter": "python",
   "pygments_lexer": "ipython3",
   "version": "3.11.2"
  }
 },
 "nbformat": 4,
 "nbformat_minor": 5
}
