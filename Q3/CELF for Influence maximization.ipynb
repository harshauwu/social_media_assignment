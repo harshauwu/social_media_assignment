{
 "cells": [
  {
   "cell_type": "code",
   "execution_count": 3,
   "id": "e03882db",
   "metadata": {},
   "outputs": [],
   "source": [
    "import networkx as nx \n",
    "import time\n",
    "import resource"
   ]
  },
  {
   "cell_type": "code",
   "execution_count": 4,
   "id": "89406672",
   "metadata": {},
   "outputs": [],
   "source": [
    "# Data Preparation\n",
    "G = nx.read_edgelist(\"soc-Epinions1.txt\", create_using=nx.DiGraph())"
   ]
  },
  {
   "cell_type": "code",
   "execution_count": 5,
   "id": "8af95d42",
   "metadata": {},
   "outputs": [],
   "source": [
    "# Experimentation Setup\n",
    "network_size = len(G)\n",
    "propagation_model = \"Independent Cascade\"  # Change as needed\n",
    "seed_set_sizes = [5, 10, 15]  # Adjust as needed\n",
    "budget_constraint = None  # Set a budget constraint if applicable"
   ]
  },
  {
   "cell_type": "code",
   "execution_count": 10,
   "id": "db74caf8",
   "metadata": {},
   "outputs": [],
   "source": [
    "import heapq"
   ]
  },
  {
   "cell_type": "code",
   "execution_count": 11,
   "id": "a7447642",
   "metadata": {},
   "outputs": [
    {
     "ename": "NameError",
     "evalue": "name 'model' is not defined",
     "output_type": "error",
     "traceback": [
      "\u001b[0;31m---------------------------------------------------------------------------\u001b[0m",
      "\u001b[0;31mNameError\u001b[0m                                 Traceback (most recent call last)",
      "Cell \u001b[0;32mIn[11], line 45\u001b[0m\n\u001b[1;32m     43\u001b[0m \u001b[38;5;66;03m# Example usage:\u001b[39;00m\n\u001b[1;32m     44\u001b[0m k \u001b[38;5;241m=\u001b[39m \u001b[38;5;241m5\u001b[39m  \u001b[38;5;66;03m# Set the desired seed set size\u001b[39;00m\n\u001b[0;32m---> 45\u001b[0m selected_seed_set \u001b[38;5;241m=\u001b[39m celf_algorithm(G, k, \u001b[43mmodel\u001b[49m)\n\u001b[1;32m     46\u001b[0m \u001b[38;5;28mprint\u001b[39m(\u001b[38;5;124m\"\u001b[39m\u001b[38;5;124mSelected Seed Set:\u001b[39m\u001b[38;5;124m\"\u001b[39m, selected_seed_set)\n",
      "\u001b[0;31mNameError\u001b[0m: name 'model' is not defined"
     ]
    }
   ],
   "source": [
    "def celf_algorithm(G, k, model):\n",
    "    seed_set = set()  # Initialize an empty seed set\n",
    "    marginal_gain_heap = []  # Initialize a max heap for marginal gains\n",
    "\n",
    "    # Function to calculate marginal gain for a node\n",
    "    def calculate_marginal_gain(node, seed_set):\n",
    "        # Simulate influence spread when adding 'node' to the seed set\n",
    "        new_seed_set = seed_set.copy()\n",
    "        new_seed_set.add(node)\n",
    "        influence_spread = simulate_influence(G, new_seed_set, model)\n",
    "        \n",
    "        # Calculate marginal gain\n",
    "        marginal_gain = influence_spread - len(seed_set)\n",
    "        return marginal_gain\n",
    "\n",
    "    # Add the node with the maximum marginal gain to the seed set\n",
    "    for node in G.nodes():\n",
    "        marginal_gain = calculate_marginal_gain(node, seed_set)\n",
    "        heapq.heappush(marginal_gain_heap, (-marginal_gain, node))\n",
    "\n",
    "    for _ in range(k):\n",
    "        # Get the node with the maximum marginal gain\n",
    "        _, next_node = heapq.heappop(marginal_gain_heap)\n",
    "        \n",
    "        # Calculate its marginal gain again (with updated seed set)\n",
    "        marginal_gain = calculate_marginal_gain(next_node, seed_set)\n",
    "\n",
    "        # If the marginal gain is still the highest, add it to the seed set\n",
    "        if marginal_gain > 0:\n",
    "            seed_set.add(next_node)\n",
    "        else:\n",
    "            break  # No more nodes with positive marginal gains\n",
    "        \n",
    "    return seed_set\n",
    "\n",
    "# Function to simulate influence spread\n",
    "def simulate_influence(G, seed_set, model):\n",
    "    # Implement your influence propagation model here\n",
    "    # This function simulates how influence spreads based on the chosen model\n",
    "    # You'll need to track active nodes and update them according to the model\n",
    "    pass\n",
    "\n",
    "# Example usage:\n",
    "k = 5  # Set the desired seed set size\n",
    "selected_seed_set = celf_algorithm(G, k, model)\n",
    "print(\"Selected Seed Set:\", selected_seed_set)\n"
   ]
  },
  {
   "cell_type": "code",
   "execution_count": 12,
   "id": "35531de5",
   "metadata": {},
   "outputs": [
    {
     "ename": "TypeError",
     "evalue": "unsupported operand type(s) for -: 'NoneType' and 'int'",
     "output_type": "error",
     "traceback": [
      "\u001b[0;31m---------------------------------------------------------------------------\u001b[0m",
      "\u001b[0;31mTypeError\u001b[0m                                 Traceback (most recent call last)",
      "Cell \u001b[0;32mIn[12], line 19\u001b[0m\n\u001b[1;32m     17\u001b[0m \u001b[38;5;28;01mfor\u001b[39;00m seed_set_size \u001b[38;5;129;01min\u001b[39;00m seed_set_sizes:\n\u001b[1;32m     18\u001b[0m     start_time \u001b[38;5;241m=\u001b[39m time\u001b[38;5;241m.\u001b[39mtime()\n\u001b[0;32m---> 19\u001b[0m     seed_set \u001b[38;5;241m=\u001b[39m \u001b[43mcelf_algorithm\u001b[49m\u001b[43m(\u001b[49m\u001b[43mG\u001b[49m\u001b[43m,\u001b[49m\u001b[43m \u001b[49m\u001b[43mseed_set_size\u001b[49m\u001b[43m,\u001b[49m\u001b[43m \u001b[49m\u001b[43mpropagation_model\u001b[49m\u001b[43m)\u001b[49m\n\u001b[1;32m     20\u001b[0m     end_time \u001b[38;5;241m=\u001b[39m time\u001b[38;5;241m.\u001b[39mtime()\n\u001b[1;32m     21\u001b[0m     measure_performance(seed_set, start_time, end_time)\n",
      "Cell \u001b[0;32mIn[11], line 18\u001b[0m, in \u001b[0;36mcelf_algorithm\u001b[0;34m(G, k, model)\u001b[0m\n\u001b[1;32m     16\u001b[0m \u001b[38;5;66;03m# Add the node with the maximum marginal gain to the seed set\u001b[39;00m\n\u001b[1;32m     17\u001b[0m \u001b[38;5;28;01mfor\u001b[39;00m node \u001b[38;5;129;01min\u001b[39;00m G\u001b[38;5;241m.\u001b[39mnodes():\n\u001b[0;32m---> 18\u001b[0m     marginal_gain \u001b[38;5;241m=\u001b[39m \u001b[43mcalculate_marginal_gain\u001b[49m\u001b[43m(\u001b[49m\u001b[43mnode\u001b[49m\u001b[43m,\u001b[49m\u001b[43m \u001b[49m\u001b[43mseed_set\u001b[49m\u001b[43m)\u001b[49m\n\u001b[1;32m     19\u001b[0m     heapq\u001b[38;5;241m.\u001b[39mheappush(marginal_gain_heap, (\u001b[38;5;241m-\u001b[39mmarginal_gain, node))\n\u001b[1;32m     21\u001b[0m \u001b[38;5;28;01mfor\u001b[39;00m _ \u001b[38;5;129;01min\u001b[39;00m \u001b[38;5;28mrange\u001b[39m(k):\n\u001b[1;32m     22\u001b[0m     \u001b[38;5;66;03m# Get the node with the maximum marginal gain\u001b[39;00m\n",
      "Cell \u001b[0;32mIn[11], line 13\u001b[0m, in \u001b[0;36mcelf_algorithm.<locals>.calculate_marginal_gain\u001b[0;34m(node, seed_set)\u001b[0m\n\u001b[1;32m     10\u001b[0m influence_spread \u001b[38;5;241m=\u001b[39m simulate_influence(G, new_seed_set, model)\n\u001b[1;32m     12\u001b[0m \u001b[38;5;66;03m# Calculate marginal gain\u001b[39;00m\n\u001b[0;32m---> 13\u001b[0m marginal_gain \u001b[38;5;241m=\u001b[39m \u001b[43minfluence_spread\u001b[49m\u001b[43m \u001b[49m\u001b[38;5;241;43m-\u001b[39;49m\u001b[43m \u001b[49m\u001b[38;5;28;43mlen\u001b[39;49m\u001b[43m(\u001b[49m\u001b[43mseed_set\u001b[49m\u001b[43m)\u001b[49m\n\u001b[1;32m     14\u001b[0m \u001b[38;5;28;01mreturn\u001b[39;00m marginal_gain\n",
      "\u001b[0;31mTypeError\u001b[0m: unsupported operand type(s) for -: 'NoneType' and 'int'"
     ]
    }
   ],
   "source": [
    "# Step 5: Performance Metrics\n",
    "def measure_performance(influence_spread, start_time, end_time):\n",
    "    # Measure influence spread\n",
    "    influence_spread.append(len(influenced_nodes))\n",
    "    \n",
    "    # Measure running time\n",
    "    running_time.append(end_time - start_time)\n",
    "    \n",
    "    # Measure memory usage (Linux specific)\n",
    "    memory_usage.append(resource.getrusage(resource.RUSAGE_SELF).ru_maxrss)\n",
    "\n",
    "# Step 6: Experimentation\n",
    "influence_spread = []\n",
    "running_time = []\n",
    "memory_usage = []\n",
    "\n",
    "for seed_set_size in seed_set_sizes:\n",
    "    start_time = time.time()\n",
    "    seed_set = celf_algorithm(G, seed_set_size, propagation_model)\n",
    "    end_time = time.time()\n",
    "    measure_performance(seed_set, start_time, end_time)"
   ]
  },
  {
   "cell_type": "code",
   "execution_count": null,
   "id": "430c0c50",
   "metadata": {},
   "outputs": [],
   "source": []
  },
  {
   "cell_type": "code",
   "execution_count": null,
   "id": "acce9b64",
   "metadata": {},
   "outputs": [],
   "source": []
  }
 ],
 "metadata": {
  "kernelspec": {
   "display_name": "Python 3 (ipykernel)",
   "language": "python",
   "name": "python3"
  },
  "language_info": {
   "codemirror_mode": {
    "name": "ipython",
    "version": 3
   },
   "file_extension": ".py",
   "mimetype": "text/x-python",
   "name": "python",
   "nbconvert_exporter": "python",
   "pygments_lexer": "ipython3",
   "version": "3.11.2"
  }
 },
 "nbformat": 4,
 "nbformat_minor": 5
}
