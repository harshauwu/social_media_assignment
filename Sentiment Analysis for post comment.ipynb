{
 "cells": [
  {
   "cell_type": "code",
   "execution_count": 2,
   "id": "919c27b2",
   "metadata": {},
   "outputs": [],
   "source": [
    "import pandas as pd\n",
    "from textblob import TextBlob"
   ]
  },
  {
   "cell_type": "code",
   "execution_count": 3,
   "id": "5d451234",
   "metadata": {},
   "outputs": [],
   "source": [
    "# Sample data\n",
    "data = pd.DataFrame({\n",
    "    'post_id': [1, 1, 2, 1],\n",
    "    'comment': [\n",
    "        \"This is a great post! I learned a lot.\",\n",
    "        \"bad post\",\n",
    "        \"very good post\",\n",
    "        \"it is best answer, anushiak. this is my data\",\n",
    "    ],\n",
    "    'author': [\"Kevin\", \"Lakmal\", \"Shan\", \"anushiak\"],\n",
    "})"
   ]
  },
  {
   "cell_type": "code",
   "execution_count": 4,
   "id": "07a140f8",
   "metadata": {},
   "outputs": [],
   "source": [
    "# Function to analyze sentiment and assign labels\n",
    "def analyze_sentiment(text):\n",
    "    analysis = TextBlob(text)\n",
    "    if analysis.sentiment.polarity > 0.2:\n",
    "        return \"positive\"\n",
    "    elif analysis.sentiment.polarity < -0.2:\n",
    "        return \"negative\"\n",
    "    else:\n",
    "        return \"neutral\""
   ]
  },
  {
   "cell_type": "code",
   "execution_count": 5,
   "id": "3232ae71",
   "metadata": {},
   "outputs": [],
   "source": [
    "# Apply sentiment analysis and labeling to the comments\n",
    "data['sentiment'] = data['comment'].apply(analyze_sentiment)\n"
   ]
  },
  {
   "cell_type": "code",
   "execution_count": 6,
   "id": "99736193",
   "metadata": {},
   "outputs": [],
   "source": [
    "# Filter comments related to a specific post (e.g., post_id 1)\n",
    "post_id_to_find = 1\n",
    "comments_related_to_post = data[data['post_id'] == post_id_to_find]\n"
   ]
  },
  {
   "cell_type": "code",
   "execution_count": 7,
   "id": "a4fba237",
   "metadata": {},
   "outputs": [
    {
     "name": "stdout",
     "output_type": "stream",
     "text": [
      "Comments related to Post ID 1\n",
      "                                        comment sentiment\n",
      "0        This is a great post! I learned a lot.  positive\n",
      "1                                      bad post  negative\n",
      "3  it is best answer, anushiak. this is my data  positive\n"
     ]
    }
   ],
   "source": [
    "print(\"Comments related to Post ID\", post_id_to_find)\n",
    "print(comments_related_to_post[['comment', 'sentiment']])"
   ]
  },
  {
   "cell_type": "code",
   "execution_count": null,
   "id": "9af1bc66",
   "metadata": {},
   "outputs": [],
   "source": []
  }
 ],
 "metadata": {
  "kernelspec": {
   "display_name": "Python 3 (ipykernel)",
   "language": "python",
   "name": "python3"
  },
  "language_info": {
   "codemirror_mode": {
    "name": "ipython",
    "version": 3
   },
   "file_extension": ".py",
   "mimetype": "text/x-python",
   "name": "python",
   "nbconvert_exporter": "python",
   "pygments_lexer": "ipython3",
   "version": "3.11.2"
  }
 },
 "nbformat": 4,
 "nbformat_minor": 5
}
